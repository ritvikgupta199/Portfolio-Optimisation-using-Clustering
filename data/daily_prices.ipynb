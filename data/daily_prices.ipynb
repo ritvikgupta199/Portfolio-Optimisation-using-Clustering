{
 "cells": [
  {
   "cell_type": "code",
   "execution_count": 35,
   "metadata": {},
   "outputs": [],
   "source": [
    "import json\n",
    "import os\n",
    "from tqdm import tqdm\n",
    "\n",
    "data_dir = '../data/TIME_SERIES_DAILY'\n",
    "TICKER_LIST = '../snp500sym.csv'\n",
    "write_dir = '../data/MACD_data'\n",
    "\n",
    "if not os.path.exists(write_dir):\n",
    "    os.makedirs(write_dir)\n",
    "    print(f'Created directory {write_dir}')"
   ]
  },
  {
   "cell_type": "code",
   "execution_count": 36,
   "metadata": {},
   "outputs": [],
   "source": [
    "def get_ema(data, dates, num_days):\n",
    "    wt = 2/(num_days + 1)\n",
    "    init_ema = 0\n",
    "    for i in range(num_days):\n",
    "        init_ema += float(data[dates[i]]['4. close'])\n",
    "    init_ema /= num_days\n",
    "    ema = {dates[num_days-1]: init_ema}\n",
    "    for i in range(num_days, len(dates)):\n",
    "        ema[dates[i]] = (float(data[dates[i]]['4. close']) * wt + ema[dates[i-1]] * (1 - wt))\n",
    "    return ema\n",
    "\n",
    "def get_macd(data, dates):\n",
    "    if len(dates) <= 26:\n",
    "        return None\n",
    "    ema_12 = get_ema(data, dates, 12)\n",
    "    ema_26 = get_ema(data, dates, 26)\n",
    "    macd = {date: ema_12[date] - ema_26[date] for date in ema_26.keys()}\n",
    "    macd_normalised = {date: macd[date] / ema_26[date] for date in ema_26.keys()}\n",
    "    return macd, macd_normalised"
   ]
  },
  {
   "cell_type": "code",
   "execution_count": 37,
   "metadata": {},
   "outputs": [
    {
     "name": "stderr",
     "output_type": "stream",
     "text": [
      "100%|██████████| 505/505 [00:14<00:00, 35.72it/s]\n"
     ]
    }
   ],
   "source": [
    "f = open(TICKER_LIST, 'r')\n",
    "for line in tqdm(f.readlines()):\n",
    "    ticker = line.strip()\n",
    "    data = json.load(open(os.path.join(data_dir, ticker + '.json'), 'r'))\n",
    "    try:\n",
    "        data = data['Time Series (Daily)']\n",
    "    except:\n",
    "        continue\n",
    "    dates = list(data.keys())\n",
    "    dates.reverse()\n",
    "    mcd = get_macd(data, dates)\n",
    "    if mcd is None:\n",
    "        continue\n",
    "    macd, macd_normalised = mcd\n",
    "    fw = open(os.path.join(write_dir, ticker + '.csv'), 'w')\n",
    "    fw.write('Date, MACD, MACD_n\\n')\n",
    "    for date in macd.keys():\n",
    "        fw.write(f'{date}, {macd[date]}, {macd_n[date]}\\n')\n",
    "    fw.close()\n",
    "    "
   ]
  },
  {
   "cell_type": "code",
   "execution_count": null,
   "metadata": {},
   "outputs": [],
   "source": []
  }
 ],
 "metadata": {
  "interpreter": {
   "hash": "aee8b7b246df8f9039afb4144a1f6fd8d2ca17a180786b69acc140d282b71a49"
  },
  "kernelspec": {
   "display_name": "Python 3.8.2 64-bit",
   "language": "python",
   "name": "python3"
  },
  "language_info": {
   "codemirror_mode": {
    "name": "ipython",
    "version": 3
   },
   "file_extension": ".py",
   "mimetype": "text/x-python",
   "name": "python",
   "nbconvert_exporter": "python",
   "pygments_lexer": "ipython3",
   "version": "3.8.8"
  },
  "orig_nbformat": 4
 },
 "nbformat": 4,
 "nbformat_minor": 2
}
