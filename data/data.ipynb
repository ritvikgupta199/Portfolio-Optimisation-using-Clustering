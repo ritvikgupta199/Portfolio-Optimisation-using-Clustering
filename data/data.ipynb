{
 "cells": [
  {
   "cell_type": "code",
   "execution_count": 12,
   "metadata": {},
   "outputs": [],
   "source": [
    "for year in range(2017, 2022):\n",
    "    for qtr in range(1, 5):\n",
    "        period = f'{year}_Q{qtr}'\n",
    "        period_file = open(f'../data/QuarterlyData/{period}.csv', 'r')\n",
    "        header = period_file.readline()\n",
    "        lines = period_file.readlines()\n",
    "        info = []\n",
    "        for line in lines:\n",
    "            line = line.strip()\n",
    "            line = line.split(',')\n",
    "            info.append(line)\n",
    "        period_file.close()\n",
    "        # period_file = open(f'../data/QuarterlyData0/{period}.csv', 'w')\n",
    "        # period_file.write(header)\n",
    "        "
   ]
  },
  {
   "cell_type": "code",
   "execution_count": null,
   "metadata": {},
   "outputs": [],
   "source": []
  }
 ],
 "metadata": {
  "language_info": {
   "name": "python"
  },
  "orig_nbformat": 4
 },
 "nbformat": 4,
 "nbformat_minor": 2
}
