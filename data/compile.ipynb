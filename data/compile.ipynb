{
 "cells": [
  {
   "cell_type": "code",
   "execution_count": 5,
   "metadata": {},
   "outputs": [],
   "source": [
    "import json, math\n",
    "import matplotlib.pyplot as plt"
   ]
  },
  {
   "cell_type": "code",
   "execution_count": 6,
   "metadata": {},
   "outputs": [
    {
     "name": "stdout",
     "output_type": "stream",
     "text": [
      "['MMM', 'AOS', 'ABT', 'ABBV', 'ABMD']\n",
      "no of stocks = 505\n"
     ]
    }
   ],
   "source": [
    "syms = []\n",
    "symfile = open('../snp500sym.csv','r')\n",
    "symlines = symfile.readlines()\n",
    "for line in symlines:\n",
    "    syms.append(line.strip())\n",
    "print(syms[:5])\n",
    "print(f'no of stocks = {len(syms)}')"
   ]
  },
  {
   "cell_type": "code",
   "execution_count": 7,
   "metadata": {},
   "outputs": [
    {
     "name": "stdout",
     "output_type": "stream",
     "text": [
      "{'shortTermDebt', 'currentNetReceivables', 'incomeTaxExpense', 'incomeBeforeTax', 'netIncome', 'goodwill', 'longTermInvestments', 'otherCurrentLiabilities', 'totalCurrentAssets', 'researchAndDevelopment', 'totalRevenue', 'totalNonCurrentLiabilities', 'depreciation', 'totalNonCurrentAssets', 'treasuryStock', 'costOfRevenue', 'intangibleAssetsExcludingGoodwill', 'grossProfit', 'comprehensiveIncomeNetOfTax', 'fiscalDateEnding', 'investments', 'totalShareholderEquity', 'shortTermInvestments', 'deferredRevenue', 'retainedEarnings', 'propertyPlantEquipment', 'operatingExpenses', 'depreciationAndAmortization', 'capitalLeaseObligations', 'totalCurrentLiabilities', 'commonStockSharesOutstanding', 'interestAndDebtExpense', 'accumulatedDepreciationAmortizationPPE', 'intangibleAssets', 'ebitda', 'currentAccountsPayable', 'cashAndShortTermInvestments', 'longTermDebtNoncurrent', 'otherCurrentAssets', 'currentLongTermDebt', 'otherNonCurrentLiabilities', 'otherNonCurrrentAssets', 'costofGoodsAndServicesSold', 'nonInterestIncome', 'sellingGeneralAndAdministrative', 'cashAndCashEquivalentsAtCarryingValue', 'shortLongTermDebtTotal', 'interestExpense', 'investmentIncomeNet', 'inventory', 'operatingIncome', 'netIncomeFromContinuingOperations', 'ebit', 'commonStock', 'reportedCurrency', 'totalAssets', 'currentDebt', 'netInterestIncome', 'longTermDebt', 'interestIncome', 'totalLiabilities', 'otherNonOperatingIncome'}\n"
     ]
    }
   ],
   "source": [
    "bal = open('INCOME_STATEMENT/AAL.json', 'r')\n",
    "inc = open('BALANCE_SHEET/AAL.json', 'r')\n",
    "bal = json.load(bal)\n",
    "inc = json.load(inc)\n",
    "inc = inc['annualReports'][0]\n",
    "bal = bal['annualReports'][0]\n",
    "income_statement_indicators = [u[0] for u in inc.items()]\n",
    "balance_sheet_indicators = [u[0] for u in bal.items()]\n",
    "income_statement_indicators = set(income_statement_indicators)\n",
    "balance_sheet_indicators = set(balance_sheet_indicators)\n",
    "# print(income_statement_indicators)\n",
    "# print(balance_sheet_indicators)\n",
    "indicators = income_statement_indicators.union(balance_sheet_indicators)\n",
    "print(indicators)\n",
    "# print(len(indicators))\n"
   ]
  },
  {
   "cell_type": "code",
   "execution_count": 8,
   "metadata": {},
   "outputs": [
    {
     "name": "stdout",
     "output_type": "stream",
     "text": [
      "{'ticker': 1, 'reportedcurrency': 2, 'totalassets': 3, 'totalcurrentassets': 4, 'cashandcashequivalentsatcarryingvalue': 5, 'cashandshortterminvestments': 6, 'inventory': 7, 'currentnetreceivables': 8, 'totalnoncurrentassets': 9, 'propertyplantequipment': 10, 'accumulateddepreciationamortizationppe': 11, 'intangibleassets': 12, 'intangibleassetsexcludinggoodwill': 13, 'goodwill': 14, 'investments': 15, 'longterminvestments': 16, 'shortterminvestments': 17, 'othercurrentassets': 18, 'othernoncurrrentassets': 19, 'totalliabilities': 20, 'totalcurrentliabilities': 21, 'currentaccountspayable': 22, 'deferredrevenue': 23, 'currentdebt': 24, 'shorttermdebt': 25, 'totalnoncurrentliabilities': 26, 'capitalleaseobligations': 27, 'longtermdebt': 28, 'currentlongtermdebt': 29, 'longtermdebtnoncurrent': 30, 'shortlongtermdebttotal': 31, 'othercurrentliabilities': 32, 'othernoncurrentliabilities': 33, 'totalshareholderequity': 34, 'treasurystock': 35, 'retainedearnings': 36, 'commonstock': 37, 'commonstocksharesoutstanding': 38, 'operatingcashflow': 39, 'paymentsforoperatingactivities': 40, 'proceedsfromoperatingactivities': 41, 'changeinoperatingliabilities': 42, 'changeinoperatingassets': 43, 'depreciationdepletionandamortization': 44, 'capitalexpenditures': 45, 'changeinreceivables': 46, 'changeininventory': 47, 'profitloss': 48, 'cashflowfrominvestment': 49, 'cashflowfromfinancing': 50, 'proceedsfromrepaymentsofshorttermdebt': 51, 'paymentsforrepurchaseofcommonstock': 52, 'paymentsforrepurchaseofequity': 53, 'paymentsforrepurchaseofpreferredstock': 54, 'dividendpayout': 55, 'dividendpayoutcommonstock': 56, 'dividendpayoutpreferredstock': 57, 'proceedsfromissuanceofcommonstock': 58, 'proceedsfromissuanceoflongtermdebtandcapitalsecuritiesnet': 59, 'proceedsfromissuanceofpreferredstock': 60, 'proceedsfromrepurchaseofequity': 61, 'proceedsfromsaleoftreasurystock': 62, 'changeincashandcashequivalents': 63, 'changeinexchangerate': 64, 'netincome': 65, 'grossprofit': 66, 'totalrevenue': 67, 'costofrevenue': 68, 'costofgoodsandservicessold': 69, 'operatingincome': 70, 'sellinggeneralandadministrative': 71, 'researchanddevelopment': 72, 'operatingexpenses': 73, 'investmentincomenet': 74, 'netinterestincome': 75, 'interestincome': 76, 'interestexpense': 77, 'noninterestincome': 78, 'othernonoperatingincome': 79, 'depreciation': 80, 'depreciationandamortization': 81, 'incomebeforetax': 82, 'incometaxexpense': 83, 'interestanddebtexpense': 84, 'netincomefromcontinuingoperations': 85, 'comprehensiveincomenetoftax': 86, 'ebit': 87, 'ebitda': 88, 'reporteddate': 89, 'reportedeps': 90, 'estimatedeps': 91, 'surprise': 92, 'surprisepercentage': 93}\n"
     ]
    }
   ],
   "source": [
    "period_file = open(f'../data/QuarterlyData/2021_Q4.csv', 'r')\n",
    "indicators = period_file.readline()\n",
    "lines = period_file.readlines()\n",
    "ticker = []\n",
    "for line in lines:\n",
    "    line = line.strip().split(',')\n",
    "    ticker.append(line[0])\n",
    "indicators = indicators.strip().split(',')\n",
    "# print(indicators)\n",
    "indicatos_ind = dict()\n",
    "for i in range(len(indicators)):\n",
    "    indicatos_ind[indicators[i].lower()] = i+1\n",
    "print(indicatos_ind)"
   ]
  },
  {
   "cell_type": "code",
   "execution_count": 9,
   "metadata": {},
   "outputs": [],
   "source": [
    "ratios = [\n",
    "    # ['pe', [], []], \n",
    "    # ['eps', [], []],\n",
    "    # ['de', ['totalLiabilities'], ['totalShareHolderEquity']], \n",
    "    ['da', ['totalLiabilities'], ['totalAssets']],\n",
    "    # ['roe', ['netincome'], ['totalShareHolderEquity']],\n",
    "    ['roa', ['netincome'], ['totalAssets']],\n",
    "    # ['net_profit_margin', ['netincome'], ['totalrevenue']],\n",
    "    # ['current_ratio', ['totalCurrentAssets'], ['totalCurrentLiabilities']],\n",
    "    # ['quick_ratio', ['totalcurrentassets', '-inventory'], ['totalcurrentliabilities']],\n",
    "    ['at', ['totalrevenue'], ['totalAssets']],\n",
    "    # ['debt_ratio', ['totalliabilities'], ['totalassets']],\n",
    "]"
   ]
  },
  {
   "cell_type": "code",
   "execution_count": 10,
   "metadata": {},
   "outputs": [],
   "source": [
    "for year in range(2017, 2022):\n",
    "    for qtr in range(1, 5):\n",
    "        period = f'{year}_Q{qtr}'\n",
    "        period_file = open(f'../data/QuarterlyData/{period}.csv', 'r')\n",
    "        header = period_file.readline()\n",
    "        lines = period_file.readlines()\n",
    "        info = []\n",
    "        for line in lines:\n",
    "            line = line.strip()\n",
    "            line = line.split(',')\n",
    "            info.append(line)\n",
    "        # print(info[:5])\n",
    "        period_ratios = open(f'../data/QuarterlyRatios/{period}.csv', 'w')\n",
    "        ratio_header = ['ticker']\n",
    "        for ratio in ratios:\n",
    "            ratio_header.append(ratio[0])\n",
    "        period_ratios.write(','.join(ratio_header)  + '\\n')\n",
    "        for i in range(len(ticker)):\n",
    "            to_write = [ticker[i]]\n",
    "            for ratio in ratios:\n",
    "                \n",
    "                num = 0\n",
    "                den = 0\n",
    "                    \n",
    "                try:\n",
    "                    for nums in ratio[1]:\n",
    "                        if (nums.lower())[0] == '-':\n",
    "                            num -= float(info[i][indicatos_ind[(nums.lower())[1:]]])\n",
    "                        else:\n",
    "                            num += float(info[i][indicatos_ind[nums.lower()]])\n",
    "                    for dens in ratio[2]:\n",
    "                        if (dens.lower())[0] == '-':\n",
    "                            den -= float(info[i][indicatos_ind[(dens.lower())[1:]]])\n",
    "                        else:\n",
    "                            den += float(info[i][indicatos_ind[dens.lower()]])\n",
    "                    to_write.append(str(num/den))\n",
    "                    pass\n",
    "                except:\n",
    "                    if num != 0:\n",
    "                        # print(num, den)\n",
    "                        pass\n",
    "                    to_write.append('#####')\n",
    "                    pass\n",
    "            \n",
    "            period_ratios.write(','.join(to_write) + '\\n')"
   ]
  },
  {
   "cell_type": "code",
   "execution_count": 11,
   "metadata": {},
   "outputs": [
    {
     "name": "stdout",
     "output_type": "stream",
     "text": [
      "471 476 479 471 478 482 483 488 490 489 490 490 \n",
      "416 {'LOW', 'MTB', 'BRO', 'K', 'UAA', 'CNC', 'OTIS', 'FTV', 'ADSK', 'MAA', 'ADM', 'FBHS', 'CHTR', 'ADP', 'XOM', 'TGT', 'ABT', 'MU', 'PNR', 'ATVI', 'ILMN', 'J', 'MMM', 'ANTM', 'IPG', 'NVR', 'CL', 'MAR', 'ITW', 'PPG', 'FDS', 'JPM', 'ROST', 'UNH', 'VLO', 'SRE', 'AES', 'ICE', 'ROP', 'KMX', 'MCHP', 'MDT', 'ECL', 'AMD', 'NDSN', 'GE', 'GM', 'SPG', 'DTE', 'EIX', 'AAPL', 'SO', 'JBHT', 'AIG', 'MO', 'ETN', 'WMT', 'AMP', 'PEG', 'PFG', 'APH', 'VRSK', 'EOG', 'MAS', 'ETR', 'IFF', 'ALB', 'CHD', 'TSLA', 'NI', 'TEL', 'NCLH', 'CAH', 'NWS', 'AXP', 'HAL', 'BXP', 'CRL', 'HES', 'BK', 'TFC', 'AEE', 'NFLX', 'IEX', 'IQV', 'GILD', 'SNA', 'VNO', 'VRSN', 'HBAN', 'NWSA', 'BIIB', 'APA', 'HON', 'ANSS', 'PNC', 'MKTX', 'KLAC', 'MTD', 'RMD', 'PSX', 'RE', 'UHS', 'ZBRA', 'BSX', 'DVA', 'EXPE', 'WEC', 'CCI', 'WAT', 'ROL', 'NWL', 'CPRT', 'DFS', 'NUE', 'FAST', 'MA', 'PEAK', 'IP', 'KR', 'CRM', 'DLR', 'GNRC', 'NLSN', 'MDLZ', 'PAYX', 'MCK', 'AKAM', 'CHRW', 'FRT', 'RJF', 'CLX', 'EBAY', 'GRMN', 'CMS', 'MTCH', 'INTC', 'HPE', 'AMAT', 'EMN', 'LNT', 'LRCX', 'EQR', 'CDNS', 'BKNG', 'HCA', 'IBM', 'DVN', 'COO', 'NLOK', 'XEL', 'KEYS', 'OGN', 'DISCA', 'TSCO', 'SIVB', 'TPR', 'IRM', 'VFC', 'L', 'RHI', 'SEDG', 'GLW', 'GD', 'AFL', 'SYK', 'MCO', 'PHM', 'KMI', 'PBCT', 'TRMB', 'ABBV', 'GL', 'GS', 'PH', 'CSX', 'AAL', 'PVH', 'T', 'CBRE', 'MNST', 'WAB', 'CMI', 'SCHW', 'UAL', 'CF', 'NSC', 'SBAC', 'WHR', 'CSCO', 'CTSH', 'QCOM', 'RCL', 'APD', 'HII', 'EPAM', 'BWA', 'MET', 'CE', 'PXD', 'UNP', 'CVX', 'XRAY', 'INTU', 'AON', 'CMCSA', 'CMA', 'PG', 'MRO', 'LH', 'NDAQ', 'CDW', 'PEP', 'FTNT', 'GOOGL', 'DRE', 'PTC', 'PM', 'TDY', 'TDG', 'NOW', 'DRI', 'APTV', 'AOS', 'CTRA', 'NOC', 'DE', 'MOS', 'NTRS', 'ORLY', 'AWK', 'ADBE', 'AME', 'PGR', 'BLL', 'URI', 'UPS', 'REGN', 'WYNN', 'BKR', 'ALL', 'C', 'TTWO', 'POOL', 'COST', 'IDXX', 'MKC', 'WBA', 'KO', 'PWR', 'CMG', 'RSG', 'JKHY', 'BDX', 'HAS', 'SYF', 'SHW', 'PLD', 'SLB', 'TRV', 'FE', 'MRK', 'KIM', 'WM', 'FFIV', 'MMC', 'FITB', 'FMC', 'JCI', 'MCD', 'IR', 'TYL', 'GOOG', 'BAX', 'BLK', 'HIG', 'PKI', 'ENPH', 'QRVO', 'HD', 'MPC', 'CZR', 'EW', 'CCL', 'STT', 'ANET', 'COF', 'NKE', 'JNJ', 'NEE', 'BAC', 'LEN', 'CTAS', 'WMB', 'NTAP', 'HSY', 'WRB', 'AJG', 'KEY', 'TMUS', 'RF', 'AMZN', 'ALLE', 'SBNY', 'FIS', 'DXCM', 'CB', 'USB', 'PAYC', 'TT', 'CTXS', 'BIO', 'SPGI', 'ETSY', 'MS', 'F', 'LDOS', 'EMR', 'PPL', 'OKE', 'ACN', 'EXR', 'FANG', 'RL', 'DGX', 'NEM', 'ABC', 'TMO', 'UDR', 'FB', 'O', 'COP', 'IT', 'TECH', 'LLY', 'YUM', 'SBUX', 'PSA', 'MGM', 'MSCI', 'LYV', 'IPGP', 'PRU', 'FDX', 'DHR', 'HST', 'SNPS', 'WTW', 'PYPL', 'STZ', 'EL', 'CNP', 'MSI', 'ARE', 'XYL', 'CAG', 'MLM', 'LHX', 'REG', 'PCAR', 'WDC', 'BA', 'RTX', 'PENN', 'KMB', 'LVS', 'GIS', 'CARR', 'STX', 'SYY', 'CVS', 'AZO', 'ALGN', 'CFG', 'PNW', 'DOV', 'EXPD', 'MPWR', 'ESS', 'DHI', 'GPC', 'AMGN', 'ISRG', 'LIN', 'ATO', 'LUMN', 'WFC', 'VTR', 'OMC', 'CTLT', 'IVZ', 'LMT', 'UA', 'SJM', 'AIZ', 'ALK', 'EQIX', 'WRK', 'FLT', 'JNPR', 'CEG', 'AVB', 'GWW', 'HSIC', 'AMT', 'D', 'AEP', 'EA', 'GPN', 'CBOE', 'EFX', 'ABMD', 'HLT', 'INFO', 'LYB', 'ORCL'}\n",
      "80 {'VMC', 'HUM', 'TAP', 'WELL', 'KHC', 'BBWI', 'NVDA', 'HOLX', 'CTVA', 'INCY', 'TXT', 'LW', 'DISH', 'BR', 'ADI', 'DOW', 'DISCK', 'V', 'BMY', 'CERN', 'ES', 'CDAY', 'PFE', 'LUV', 'LKQ', 'FISV', 'TXN', 'WST', 'NXPI', 'AMCR', 'CI', 'DXC', 'BBY', 'TFX', 'MRNA', 'CAT', 'CME', 'PKG', 'DPZ', 'AAP', 'FOXA', 'STE', 'DD', 'VZ', 'FOX', 'ED', 'HPQ', 'NRG', 'SEE', 'ZION', 'TSN', 'ZTS', 'TJX', 'DAL', 'DUK', 'MSFT', 'ODFL', 'SWK', 'A', 'FCX', 'VRTX', 'FRC', 'BEN', 'EVRG', 'OXY', 'HWM', 'CINF', 'ROK', 'AVY', 'TER', 'DIS', 'LNC', 'WY', 'HRL', 'SWKS', 'EXC', 'ZBH', 'VTRS', 'MHK', 'TROW'}\n"
     ]
    }
   ],
   "source": [
    "tickerset = set(ticker)\n",
    "badtickerset = set()\n",
    "year_start = 2017\n",
    "year_end = 2020\n",
    "for year in range(year_start, year_end):\n",
    "    for qtr in range(1, 5):\n",
    "        period = f'{year}_Q{qtr}'\n",
    "        period_file = open(f'../data/QuarterlyRatios/{period}.csv', 'r')\n",
    "        header = period_file.readline()\n",
    "        lines = period_file.readlines()\n",
    "        period_file.close()\n",
    "        cool = 0\n",
    "        for line in lines:\n",
    "            ok = True\n",
    "            line = line.strip().split(',')\n",
    "            for word in line:\n",
    "                if word == '#####':\n",
    "                    ok = False\n",
    "                    break\n",
    "            if not ok:\n",
    "                if tickerset.__contains__(line[0]):\n",
    "                    tickerset.remove(line[0])\n",
    "                badtickerset.add(line[0])\n",
    "            else:\n",
    "                cool += 1\n",
    "        print(cool,end=' ')\n",
    "print()\n",
    "tickerset.remove(\"TWTR\")\n",
    "print(len(tickerset), tickerset)\n",
    "print(len(badtickerset), badtickerset)"
   ]
  },
  {
   "cell_type": "code",
   "execution_count": 12,
   "metadata": {},
   "outputs": [],
   "source": [
    "for year in range(year_start, year_end):\n",
    "    for qtr in range(1, 5):\n",
    "        period = f'{year}_Q{qtr}'\n",
    "        period_file = open(f'../data/QuarterlyRatios/{period}.csv', 'r')\n",
    "        header = period_file.readline()\n",
    "        lines = period_file.readlines()\n",
    "        period_file.close()\n",
    "        period_file = open(f'../data/QuarterlyRatiosClean/{period}.csv', 'w')\n",
    "        period_file.write(header)\n",
    "        for line in lines:\n",
    "            line = line.strip().split(',')\n",
    "            if tickerset.__contains__(line[0]):\n",
    "                period_file.write(line[0] + ',' + ','.join(line[1:]) + '\\n')"
   ]
  },
  {
   "cell_type": "code",
   "execution_count": 13,
   "metadata": {},
   "outputs": [],
   "source": [
    "for year in range(year_start, year_end):\n",
    "    for qtr in range(1, 5):\n",
    "        period = f'{year}_Q{qtr}'\n",
    "        period_file = open(f'../data/QuarterlyRatiosClean/{period}.csv', 'r')\n",
    "        header = period_file.readline()\n",
    "        lines = period_file.readlines()\n",
    "        period_file.close()\n",
    "        period_file = open(f'../data/QuarterlyRatiosCleanNormalised/{period}.csv', 'w')\n",
    "        period_file.write(header)\n",
    "        avg = [0 for _ in range(len(lines[0].strip().split(','))-1)]\n",
    "        stddev = [0 for _ in range(len(lines[0].strip().split(','))-1)]\n",
    "        for line in lines:\n",
    "            line = line.strip().split(',')\n",
    "            for i in range(len(line)-1):\n",
    "                avg[i] += float(line[i+1])\n",
    "        for i in range(len(avg)):\n",
    "            avg[i] /= len(lines)\n",
    "        for line in lines:\n",
    "            line = line.strip().split(',')\n",
    "            for i in range(len(line)-1):\n",
    "                stddev[i] += (float(line[i+1]) - avg[i])**2\n",
    "        for i in range(len(stddev)):\n",
    "            stddev[i] = math.sqrt(stddev[i] / len(lines))\n",
    "        \n",
    "        for line in lines:\n",
    "            line = line.strip().split(',')\n",
    "            to_write = [line[0]]\n",
    "            for i in range(len(line)-1):\n",
    "                # append if data is within 3 std deviations\n",
    "                if abs(float(line[i+1]) - avg[i]) < 3 * stddev[i]:\n",
    "                    to_write.append(str(float((float(line[i+1]) - avg[i])/stddev[i])))\n",
    "            if len(to_write) == len(line):\n",
    "                period_file.write(','.join(to_write) + '\\n')"
   ]
  },
  {
   "cell_type": "code",
   "execution_count": 43,
   "metadata": {},
   "outputs": [],
   "source": []
  }
 ],
 "metadata": {
  "interpreter": {
   "hash": "916dbcbb3f70747c44a77c7bcd40155683ae19c65e1c03b4aa3499c5328201f1"
  },
  "kernelspec": {
   "display_name": "Python 3.8.10 64-bit",
   "language": "python",
   "name": "python3"
  },
  "language_info": {
   "codemirror_mode": {
    "name": "ipython",
    "version": 3
   },
   "file_extension": ".py",
   "mimetype": "text/x-python",
   "name": "python",
   "nbconvert_exporter": "python",
   "pygments_lexer": "ipython3",
   "version": "3.8.10"
  },
  "orig_nbformat": 4
 },
 "nbformat": 4,
 "nbformat_minor": 2
}
