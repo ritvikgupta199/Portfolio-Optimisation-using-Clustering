{
 "cells": [
  {
   "cell_type": "code",
   "execution_count": 41,
   "metadata": {},
   "outputs": [],
   "source": [
    "import json"
   ]
  },
  {
   "cell_type": "code",
   "execution_count": 42,
   "metadata": {},
   "outputs": [
    {
     "name": "stdout",
     "output_type": "stream",
     "text": [
      "['MMM', 'AOS', 'ABT', 'ABBV', 'ABMD']\n",
      "no of stocks = 505\n"
     ]
    }
   ],
   "source": [
    "syms = []\n",
    "symfile = open('../snp500sym.csv','r')\n",
    "symlines = symfile.readlines()\n",
    "for line in symlines:\n",
    "    syms.append(line.strip())\n",
    "print(syms[:5])\n",
    "print(f'no of stocks = {len(syms)}')"
   ]
  },
  {
   "cell_type": "code",
   "execution_count": 43,
   "metadata": {},
   "outputs": [
    {
     "name": "stdout",
     "output_type": "stream",
     "text": [
      "{'researchAndDevelopment', 'operatingExpenses', 'fiscalDateEnding', 'accumulatedDepreciationAmortizationPPE', 'shortTermInvestments', 'commonStockSharesOutstanding', 'inventory', 'totalCurrentLiabilities', 'totalRevenue', 'totalShareholderEquity', 'totalNonCurrentAssets', 'grossProfit', 'shortTermDebt', 'currentDebt', 'incomeTaxExpense', 'currentLongTermDebt', 'otherCurrentLiabilities', 'propertyPlantEquipment', 'nonInterestIncome', 'investments', 'totalNonCurrentLiabilities', 'longTermInvestments', 'ebitda', 'netInterestIncome', 'deferredRevenue', 'incomeBeforeTax', 'cashAndCashEquivalentsAtCarryingValue', 'longTermDebtNoncurrent', 'ebit', 'intangibleAssetsExcludingGoodwill', 'cashAndShortTermInvestments', 'reportedCurrency', 'costofGoodsAndServicesSold', 'otherNonOperatingIncome', 'otherCurrentAssets', 'interestIncome', 'otherNonCurrrentAssets', 'capitalLeaseObligations', 'goodwill', 'commonStock', 'depreciationAndAmortization', 'depreciation', 'sellingGeneralAndAdministrative', 'costOfRevenue', 'netIncome', 'otherNonCurrentLiabilities', 'operatingIncome', 'comprehensiveIncomeNetOfTax', 'totalLiabilities', 'longTermDebt', 'treasuryStock', 'interestExpense', 'netIncomeFromContinuingOperations', 'totalCurrentAssets', 'interestAndDebtExpense', 'shortLongTermDebtTotal', 'currentNetReceivables', 'intangibleAssets', 'totalAssets', 'investmentIncomeNet', 'retainedEarnings', 'currentAccountsPayable'}\n"
     ]
    }
   ],
   "source": [
    "bal = open('INCOME_STATEMENT/AAL.json', 'r')\n",
    "inc = open('BALANCE_SHEET/AAL.json', 'r')\n",
    "bal = json.load(bal)\n",
    "inc = json.load(inc)\n",
    "inc = inc['annualReports'][0]\n",
    "bal = bal['annualReports'][0]\n",
    "income_statement_indicators = [u[0] for u in inc.items()]\n",
    "balance_sheet_indicators = [u[0] for u in bal.items()]\n",
    "income_statement_indicators = set(income_statement_indicators)\n",
    "balance_sheet_indicators = set(balance_sheet_indicators)\n",
    "# print(income_statement_indicators)\n",
    "# print(balance_sheet_indicators)\n",
    "indicators = income_statement_indicators.union(balance_sheet_indicators)\n",
    "print(indicators)\n",
    "# print(len(indicators))\n"
   ]
  },
  {
   "cell_type": "code",
   "execution_count": 44,
   "metadata": {},
   "outputs": [
    {
     "name": "stdout",
     "output_type": "stream",
     "text": [
      "{'ticker': 1, 'reportedcurrency': 2, 'totalassets': 3, 'totalcurrentassets': 4, 'cashandcashequivalentsatcarryingvalue': 5, 'cashandshortterminvestments': 6, 'inventory': 7, 'currentnetreceivables': 8, 'totalnoncurrentassets': 9, 'propertyplantequipment': 10, 'accumulateddepreciationamortizationppe': 11, 'intangibleassets': 12, 'intangibleassetsexcludinggoodwill': 13, 'goodwill': 14, 'investments': 15, 'longterminvestments': 16, 'shortterminvestments': 17, 'othercurrentassets': 18, 'othernoncurrrentassets': 19, 'totalliabilities': 20, 'totalcurrentliabilities': 21, 'currentaccountspayable': 22, 'deferredrevenue': 23, 'currentdebt': 24, 'shorttermdebt': 25, 'totalnoncurrentliabilities': 26, 'capitalleaseobligations': 27, 'longtermdebt': 28, 'currentlongtermdebt': 29, 'longtermdebtnoncurrent': 30, 'shortlongtermdebttotal': 31, 'othercurrentliabilities': 32, 'othernoncurrentliabilities': 33, 'totalshareholderequity': 34, 'treasurystock': 35, 'retainedearnings': 36, 'commonstock': 37, 'commonstocksharesoutstanding': 38, 'operatingcashflow': 39, 'paymentsforoperatingactivities': 40, 'proceedsfromoperatingactivities': 41, 'changeinoperatingliabilities': 42, 'changeinoperatingassets': 43, 'depreciationdepletionandamortization': 44, 'capitalexpenditures': 45, 'changeinreceivables': 46, 'changeininventory': 47, 'profitloss': 48, 'cashflowfrominvestment': 49, 'cashflowfromfinancing': 50, 'proceedsfromrepaymentsofshorttermdebt': 51, 'paymentsforrepurchaseofcommonstock': 52, 'paymentsforrepurchaseofequity': 53, 'paymentsforrepurchaseofpreferredstock': 54, 'dividendpayout': 55, 'dividendpayoutcommonstock': 56, 'dividendpayoutpreferredstock': 57, 'proceedsfromissuanceofcommonstock': 58, 'proceedsfromissuanceoflongtermdebtandcapitalsecuritiesnet': 59, 'proceedsfromissuanceofpreferredstock': 60, 'proceedsfromrepurchaseofequity': 61, 'proceedsfromsaleoftreasurystock': 62, 'changeincashandcashequivalents': 63, 'changeinexchangerate': 64, 'netincome': 65, 'grossprofit': 66, 'totalrevenue': 67, 'costofrevenue': 68, 'costofgoodsandservicessold': 69, 'operatingincome': 70, 'sellinggeneralandadministrative': 71, 'researchanddevelopment': 72, 'operatingexpenses': 73, 'investmentincomenet': 74, 'netinterestincome': 75, 'interestincome': 76, 'interestexpense': 77, 'noninterestincome': 78, 'othernonoperatingincome': 79, 'depreciation': 80, 'depreciationandamortization': 81, 'incomebeforetax': 82, 'incometaxexpense': 83, 'interestanddebtexpense': 84, 'netincomefromcontinuingoperations': 85, 'comprehensiveincomenetoftax': 86, 'ebit': 87, 'ebitda': 88, 'reporteddate': 89, 'reportedeps': 90, 'estimatedeps': 91, 'surprise': 92, 'surprisepercentage': 93}\n"
     ]
    }
   ],
   "source": [
    "period_file = open(f'../data/QuarterlyData/2021_Q4.csv', 'r')\n",
    "indicators = period_file.readline()\n",
    "lines = period_file.readlines()\n",
    "ticker = []\n",
    "for line in lines:\n",
    "    line = line.strip().split(',')\n",
    "    ticker.append(line[0])\n",
    "indicators = indicators.strip().split(',')\n",
    "# print(indicators)\n",
    "indicatos_ind = dict()\n",
    "for i in range(len(indicators)):\n",
    "    indicatos_ind[indicators[i].lower()] = i+1\n",
    "print(indicatos_ind)"
   ]
  },
  {
   "cell_type": "code",
   "execution_count": 60,
   "metadata": {},
   "outputs": [],
   "source": [
    "ratios = [\n",
    "    # ['pe', [], []], \n",
    "    # ['eps', [], []],\n",
    "    # ['de', ['totalLiabilities'], ['totalShareHolderEquity']], \n",
    "    ['da', ['totalLiabilities'], ['totalAssets']],\n",
    "    # ['roe', ['netincome'], ['totalShareHolderEquity']],\n",
    "    ['roa', ['netincome'], ['totalAssets']],\n",
    "    ['net_profit_margin', ['netincome'], ['totalrevenue']],\n",
    "    # ['current_ratio', ['totalCurrentAssets'], ['totalCurrentLiabilities']],\n",
    "    # ['quick_ratio', ['totalcurrentassets', '-inventory'], ['totalcurrentliabilities']],\n",
    "    ['asset_turnover', ['totalrevenue'], ['totalAssets']],\n",
    "    ['debt_ratio', ['totalliabilities'], ['totalassets']],\n",
    "]"
   ]
  },
  {
   "cell_type": "code",
   "execution_count": 61,
   "metadata": {},
   "outputs": [],
   "source": [
    "for year in range(2017, 2022):\n",
    "    for qtr in range(1, 5):\n",
    "        period = f'{year}_Q{qtr}'\n",
    "        period_file = open(f'../data/QuarterlyData/{period}.csv', 'r')\n",
    "        header = period_file.readline()\n",
    "        lines = period_file.readlines()\n",
    "        info = []\n",
    "        for line in lines:\n",
    "            line = line.strip()\n",
    "            line = line.split(',')\n",
    "            info.append(line)\n",
    "        # print(info[:5])\n",
    "        period_ratios = open(f'../data/QuarterlyRatios/{period}.csv', 'w')\n",
    "        ratio_header = ['ticker']\n",
    "        for ratio in ratios:\n",
    "            ratio_header.append(ratio[0])\n",
    "        period_ratios.write(','.join(ratio_header)  + '\\n')\n",
    "        for i in range(len(ticker)):\n",
    "            to_write = [ticker[i]]\n",
    "            for ratio in ratios:\n",
    "                \n",
    "                num = 0\n",
    "                den = 0\n",
    "                    \n",
    "                try:\n",
    "                    for nums in ratio[1]:\n",
    "                        if (nums.lower())[0] == '-':\n",
    "                            num -= float(info[i][indicatos_ind[(nums.lower())[1:]]])\n",
    "                        else:\n",
    "                            num += float(info[i][indicatos_ind[nums.lower()]])\n",
    "                    for dens in ratio[2]:\n",
    "                        if (dens.lower())[0] == '-':\n",
    "                            den -= float(info[i][indicatos_ind[(dens.lower())[1:]]])\n",
    "                        else:\n",
    "                            den += float(info[i][indicatos_ind[dens.lower()]])\n",
    "                    to_write.append(str(num/den))\n",
    "                    pass\n",
    "                except:\n",
    "                    if num != 0:\n",
    "                        # print(num, den)\n",
    "                        pass\n",
    "                    to_write.append('#####')\n",
    "                    pass\n",
    "            \n",
    "            period_ratios.write(','.join(to_write) + '\\n')"
   ]
  },
  {
   "cell_type": "code",
   "execution_count": 64,
   "metadata": {},
   "outputs": [
    {
     "name": "stdout",
     "output_type": "stream",
     "text": [
      "471 476 479 471 478 482 483 488 \n",
      "428 {'PEAK', 'LYB', 'EQR', 'CTAS', 'VNO', 'FRT', 'EXPE', 'CMG', 'CTRA', 'UNH', 'TGT', 'MET', 'L', 'SYY', 'GM', 'SNPS', 'AVB', 'PNW', 'NVR', 'AEE', 'NWS', 'PEG', 'STZ', 'TDG', 'GPC', 'ABC', 'RSG', 'ALGN', 'GWW', 'LOW', 'CNP', 'ANTM', 'IT', 'XRAY', 'IR', 'UA', 'TTWO', 'WDC', 'FTV', 'RJF', 'FDS', 'ODFL', 'CVS', 'DAL', 'NDSN', 'NDAQ', 'DFS', 'LRCX', 'CF', 'AIG', 'MPWR', 'ROP', 'WRB', 'CHRW', 'REGN', 'CBRE', 'ROST', 'LLY', 'IEX', 'PKG', 'NKE', 'JBHT', 'OGN', 'WAT', 'KMB', 'PTC', 'CMCSA', 'NLSN', 'NOW', 'EMN', 'SBUX', 'QCOM', 'SYF', 'PCAR', 'MMM', 'NSC', 'ESS', 'DRE', 'MTB', 'GPN', 'PPL', 'SBNY', 'MS', 'NEM', 'MA', 'WBA', 'AJG', 'FFIV', 'STT', 'FAST', 'ABT', 'CBOE', 'USB', 'ALLE', 'FBHS', 'BK', 'BRO', 'GL', 'XEL', 'COF', 'GE', 'CSCO', 'TDY', 'WTW', 'MPC', 'AMT', 'HII', 'D', 'NTAP', 'WFC', 'HPE', 'WHR', 'PHM', 'ITW', 'DGX', 'LEN', 'ROL', 'TECH', 'LYV', 'TRV', 'CEG', 'POOL', 'HLT', 'DVA', 'F', 'MMC', 'URI', 'GLW', 'AAL', 'PEP', 'MCD', 'MNST', 'TYL', 'NLOK', 'UNP', 'SCHW', 'HAL', 'PGR', 'ZBRA', 'COST', 'ICE', 'ILMN', 'AMZN', 'LW', 'KEYS', 'TPR', 'ARE', 'WYNN', 'AON', 'CARR', 'IBM', 'DLR', 'QRVO', 'DVN', 'HD', 'COO', 'EW', 'NTRS', 'OMC', 'ALB', 'VRSN', 'CSX', 'IRM', 'TSLA', 'LDOS', 'OKE', 'BA', 'VMC', 'PPG', 'SNA', 'SHW', 'BKR', 'VFC', 'APTV', 'VLO', 'AMD', 'CAT', 'JCI', 'AWK', 'BIIB', 'RE', 'FMC', 'SYK', 'MRO', 'CDNS', 'WMT', 'LNT', 'K', 'HUM', 'ALL', 'ADBE', 'KR', 'BSX', 'TJX', 'KIM', 'AOS', 'DHI', 'XOM', 'PXD', 'PFE', 'J', 'IQV', 'UHS', 'MKTX', 'HON', 'SBAC', 'GNRC', 'MDLZ', 'PLD', 'DHR', 'EFX', 'MOS', 'INTU', 'JNJ', 'CDW', 'AMP', 'NFLX', 'IFF', 'LVS', 'GOOG', 'KMI', 'UAA', 'NEE', 'CPRT', 'APH', 'KLAC', 'O', 'CCL', 'MAS', 'PVH', 'HSIC', 'JNPR', 'ORCL', 'CFG', 'IPG', 'UAL', 'MTCH', 'FLT', 'PFG', 'HST', 'NWSA', 'DISCA', 'ALK', 'MSCI', 'INTC', 'SEDG', 'TMUS', 'CTSH', 'CAG', 'IP', 'EA', 'AKAM', 'PNR', 'NI', 'PNC', 'SPGI', 'CRM', 'SO', 'RTX', 'ATVI', 'WRK', 'FIS', 'TRMB', 'GD', 'BAX', 'EXR', 'TT', 'EPAM', 'ADM', 'FDX', 'PBCT', 'MLM', 'NCLH', 'ADP', 'FANG', 'MRK', 'KMX', 'CMS', 'AIZ', 'CE', 'IPGP', 'XYL', 'PWR', 'VTR', 'AME', 'SRE', 'MDT', 'GRMN', 'ORLY', 'SLB', 'EIX', 'HES', 'ETR', 'DXCM', 'YUM', 'CRL', 'BLK', 'ACN', 'LUMN', 'CB', 'EOG', 'EXPD', 'CHD', 'RHI', 'ABMD', 'T', 'GS', 'BKNG', 'PSA', 'MO', 'SJM', 'IVZ', 'WMB', 'APA', 'MGM', 'PKI', 'AFL', 'TSCO', 'ETN', 'DOV', 'JKHY', 'WAB', 'INFO', 'LHX', 'ANSS', 'PYPL', 'KEY', 'MAR', 'PRU', 'RCL', 'EMR', 'CNC', 'PAYX', 'C', 'FB', 'BAC', 'HBAN', 'ANET', 'LIN', 'SWKS', 'CZR', 'ETSY', 'DE', 'SIVB', 'BDX', 'HSY', 'LH', 'RF', 'CTLT', 'AMAT', 'PG', 'GOOGL', 'PM', 'MSI', 'KO', 'EBAY', 'UDR', 'FTNT', 'IDXX', 'ISRG', 'DTE', 'VRSK', 'CMA', 'FISV', 'HAS', 'TWTR', 'CAH', 'AAPL', 'CHTR', 'WM', 'NUE', 'COP', 'MKC', 'EL', 'NOC', 'AXP', 'ADSK', 'ECL', 'CTXS', 'EQIX', 'AEP', 'PSX', 'UPS', 'BXP', 'ATO', 'JPM', 'LMT', 'MCO', 'OTIS', 'HCA', 'AES', 'FE', 'ENPH', 'CVX', 'MCHP', 'CMI', 'MTD', 'SPG', 'CL', 'BIO', 'MAA', 'MU', 'PENN', 'HIG', 'PAYC', 'STX', 'BWA', 'REG', 'TFC', 'PH', 'ABBV', 'RL', 'TEL', 'TMO', 'GIS', 'CCI', 'NWL', 'DRI', 'AMGN', 'AZO', 'FITB', 'GILD', 'MCK', 'BLL', 'RMD', 'WEC', 'CLX', 'APD'}\n",
      "69 {'DXC', 'WY', 'ZBH', 'ZTS', 'AVY', 'TER', 'CME', 'DOW', 'BBWI', 'VZ', 'SEE', 'FOXA', 'HWM', 'SWK', 'CI', 'WELL', 'MHK', 'DIS', 'HOLX', 'TROW', 'DD', 'MSFT', 'AAP', 'TFX', 'KHC', 'CINF', 'CTVA', 'EXC', 'FCX', 'HPQ', 'NRG', 'V', 'TXT', 'DISH', 'HRL', 'VTRS', 'FOX', 'BMY', 'BR', 'LUV', 'TSN', 'WST', 'CDAY', 'DPZ', 'VRTX', 'MRNA', 'DISCK', 'ES', 'ED', 'A', 'CERN', 'NVDA', 'AMCR', 'OXY', 'TAP', 'NXPI', 'ROK', 'DUK', 'LKQ', 'BEN', 'STE', 'FRC', 'LNC', 'EVRG', 'ADI', 'INCY', 'TXN', 'ZION', 'BBY'}\n"
     ]
    }
   ],
   "source": [
    "tickerset = set(ticker)\n",
    "badtickerset = set()\n",
    "year_start = 2017\n",
    "year_end = 2019\n",
    "for year in range(year_start, year_end):\n",
    "    for qtr in range(1, 5):\n",
    "        period = f'{year}_Q{qtr}'\n",
    "        period_file = open(f'../data/QuarterlyRatios/{period}.csv', 'r')\n",
    "        header = period_file.readline()\n",
    "        lines = period_file.readlines()\n",
    "        period_file.close()\n",
    "        cool = 0\n",
    "        for line in lines:\n",
    "            ok = True\n",
    "            line = line.strip().split(',')\n",
    "            for word in line:\n",
    "                if word == '#####':\n",
    "                    ok = False\n",
    "                    break\n",
    "            if not ok:\n",
    "                if tickerset.__contains__(line[0]):\n",
    "                    tickerset.remove(line[0])\n",
    "                badtickerset.add(line[0])\n",
    "            else:\n",
    "                cool += 1\n",
    "        print(cool,end=' ')\n",
    "print()\n",
    "print(len(tickerset), tickerset)\n",
    "print(len(badtickerset), badtickerset)"
   ]
  },
  {
   "cell_type": "code",
   "execution_count": 65,
   "metadata": {},
   "outputs": [],
   "source": [
    "for year in range(year_start, year_end):\n",
    "    for qtr in range(1, 5):\n",
    "        period = f'{year}_Q{qtr}'\n",
    "        period_file = open(f'../data/QuarterlyRatios/{period}.csv', 'r')\n",
    "        header = period_file.readline()\n",
    "        lines = period_file.readlines()\n",
    "        period_file.close()\n",
    "        period_file = open(f'../data/QuarterlyRatiosClean/{period}.csv', 'w')\n",
    "        period_file.write(header)\n",
    "        for line in lines:\n",
    "            line = line.strip().split(',')\n",
    "            if tickerset.__contains__(line[0]):\n",
    "                period_file.write(line[0] + ',' + ','.join(line[1:]) + '\\n')"
   ]
  },
  {
   "cell_type": "code",
   "execution_count": null,
   "metadata": {},
   "outputs": [],
   "source": []
  }
 ],
 "metadata": {
  "interpreter": {
   "hash": "916dbcbb3f70747c44a77c7bcd40155683ae19c65e1c03b4aa3499c5328201f1"
  },
  "kernelspec": {
   "display_name": "Python 3.8.10 64-bit",
   "language": "python",
   "name": "python3"
  },
  "language_info": {
   "codemirror_mode": {
    "name": "ipython",
    "version": 3
   },
   "file_extension": ".py",
   "mimetype": "text/x-python",
   "name": "python",
   "nbconvert_exporter": "python",
   "pygments_lexer": "ipython3",
   "version": "3.8.10"
  },
  "orig_nbformat": 4
 },
 "nbformat": 4,
 "nbformat_minor": 2
}
