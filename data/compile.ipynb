{
 "cells": [
  {
   "cell_type": "code",
   "execution_count": 13,
   "metadata": {},
   "outputs": [],
   "source": [
    "import json"
   ]
  },
  {
   "cell_type": "code",
   "execution_count": 14,
   "metadata": {},
   "outputs": [
    {
     "name": "stdout",
     "output_type": "stream",
     "text": [
      "['MMM', 'AOS', 'ABT', 'ABBV', 'ABMD']\n",
      "no of stocks = 505\n"
     ]
    }
   ],
   "source": [
    "syms = []\n",
    "symfile = open('../snp500sym.csv','r')\n",
    "symlines = symfile.readlines()\n",
    "for line in symlines:\n",
    "    syms.append(line.strip())\n",
    "print(syms[:5])\n",
    "print(f'no of stocks = {len(syms)}')"
   ]
  },
  {
   "cell_type": "code",
   "execution_count": 34,
   "metadata": {},
   "outputs": [
    {
     "name": "stdout",
     "output_type": "stream",
     "text": [
      "{'deferredRevenue', 'shortTermDebt', 'depreciationAndAmortization', 'retainedEarnings', 'inventory', 'goodwill', 'netIncomeFromContinuingOperations', 'cashAndShortTermInvestments', 'longTermDebt', 'otherCurrentLiabilities', 'nonInterestIncome', 'totalNonCurrentAssets', 'accumulatedDepreciationAmortizationPPE', 'otherNonOperatingIncome', 'capitalLeaseObligations', 'investmentIncomeNet', 'ebitda', 'totalLiabilities', 'currentLongTermDebt', 'totalNonCurrentLiabilities', 'intangibleAssetsExcludingGoodwill', 'treasuryStock', 'currentNetReceivables', 'researchAndDevelopment', 'fiscalDateEnding', 'commonStock', 'costOfRevenue', 'incomeTaxExpense', 'currentAccountsPayable', 'interestAndDebtExpense', 'comprehensiveIncomeNetOfTax', 'shortTermInvestments', 'totalCurrentLiabilities', 'otherNonCurrrentAssets', 'operatingExpenses', 'totalAssets', 'operatingIncome', 'cashAndCashEquivalentsAtCarryingValue', 'currentDebt', 'longTermDebtNoncurrent', 'totalShareholderEquity', 'grossProfit', 'ebit', 'totalRevenue', 'interestExpense', 'commonStockSharesOutstanding', 'interestIncome', 'totalCurrentAssets', 'netInterestIncome', 'intangibleAssets', 'costofGoodsAndServicesSold', 'netIncome', 'longTermInvestments', 'otherNonCurrentLiabilities', 'investments', 'incomeBeforeTax', 'reportedCurrency', 'shortLongTermDebtTotal', 'depreciation', 'propertyPlantEquipment', 'sellingGeneralAndAdministrative', 'otherCurrentAssets'}\n"
     ]
    }
   ],
   "source": [
    "bal = open('INCOME_STATEMENT/AAL.json', 'r')\n",
    "inc = open('BALANCE_SHEET/AAL.json', 'r')\n",
    "bal = json.load(bal)\n",
    "inc = json.load(inc)\n",
    "inc = inc['annualReports'][0]\n",
    "bal = bal['annualReports'][0]\n",
    "income_statement_indicators = [u[0] for u in inc.items()]\n",
    "balance_sheet_indicators = [u[0] for u in bal.items()]\n",
    "income_statement_indicators = set(income_statement_indicators)\n",
    "balance_sheet_indicators = set(balance_sheet_indicators)\n",
    "# print(income_statement_indicators)\n",
    "# print(balance_sheet_indicators)\n",
    "indicators = income_statement_indicators.union(balance_sheet_indicators)\n",
    "print(indicators)\n",
    "# print(len(indicators))\n"
   ]
  },
  {
   "cell_type": "code",
   "execution_count": 54,
   "metadata": {},
   "outputs": [
    {
     "name": "stdout",
     "output_type": "stream",
     "text": [
      "{'ticker': 1, 'reportedcurrency': 2, 'totalassets': 3, 'totalcurrentassets': 4, 'cashandcashequivalentsatcarryingvalue': 5, 'cashandshortterminvestments': 6, 'inventory': 7, 'currentnetreceivables': 8, 'totalnoncurrentassets': 9, 'propertyplantequipment': 10, 'accumulateddepreciationamortizationppe': 11, 'intangibleassets': 12, 'intangibleassetsexcludinggoodwill': 13, 'goodwill': 14, 'investments': 15, 'longterminvestments': 16, 'shortterminvestments': 17, 'othercurrentassets': 18, 'othernoncurrrentassets': 19, 'totalliabilities': 20, 'totalcurrentliabilities': 21, 'currentaccountspayable': 22, 'deferredrevenue': 23, 'currentdebt': 24, 'shorttermdebt': 25, 'totalnoncurrentliabilities': 26, 'capitalleaseobligations': 27, 'longtermdebt': 28, 'currentlongtermdebt': 29, 'longtermdebtnoncurrent': 30, 'shortlongtermdebttotal': 31, 'othercurrentliabilities': 32, 'othernoncurrentliabilities': 33, 'totalshareholderequity': 34, 'treasurystock': 35, 'retainedearnings': 36, 'commonstock': 37, 'commonstocksharesoutstanding': 38, 'operatingcashflow': 39, 'paymentsforoperatingactivities': 40, 'proceedsfromoperatingactivities': 41, 'changeinoperatingliabilities': 42, 'changeinoperatingassets': 43, 'depreciationdepletionandamortization': 44, 'capitalexpenditures': 45, 'changeinreceivables': 46, 'changeininventory': 47, 'profitloss': 48, 'cashflowfrominvestment': 49, 'cashflowfromfinancing': 50, 'proceedsfromrepaymentsofshorttermdebt': 51, 'paymentsforrepurchaseofcommonstock': 52, 'paymentsforrepurchaseofequity': 53, 'paymentsforrepurchaseofpreferredstock': 54, 'dividendpayout': 55, 'dividendpayoutcommonstock': 56, 'dividendpayoutpreferredstock': 57, 'proceedsfromissuanceofcommonstock': 58, 'proceedsfromissuanceoflongtermdebtandcapitalsecuritiesnet': 59, 'proceedsfromissuanceofpreferredstock': 60, 'proceedsfromrepurchaseofequity': 61, 'proceedsfromsaleoftreasurystock': 62, 'changeincashandcashequivalents': 63, 'changeinexchangerate': 64, 'netincome': 65, 'grossprofit': 66, 'totalrevenue': 67, 'costofrevenue': 68, 'costofgoodsandservicessold': 69, 'operatingincome': 70, 'sellinggeneralandadministrative': 71, 'researchanddevelopment': 72, 'operatingexpenses': 73, 'investmentincomenet': 74, 'netinterestincome': 75, 'interestincome': 76, 'interestexpense': 77, 'noninterestincome': 78, 'othernonoperatingincome': 79, 'depreciation': 80, 'depreciationandamortization': 81, 'incomebeforetax': 82, 'incometaxexpense': 83, 'interestanddebtexpense': 84, 'netincomefromcontinuingoperations': 85, 'comprehensiveincomenetoftax': 86, 'ebit': 87, 'ebitda': 88, 'reporteddate': 89, 'reportedeps': 90, 'estimatedeps': 91, 'surprise': 92, 'surprisepercentage': 93}\n"
     ]
    }
   ],
   "source": [
    "period_file = open(f'../data/QuarterlyData/2021_Q4.csv', 'r')\n",
    "indicators = period_file.readline()\n",
    "lines = period_file.readlines()\n",
    "ticker = []\n",
    "for line in lines:\n",
    "    line = line.strip().split(',')\n",
    "    ticker.append(line[0])\n",
    "indicators = indicators.strip().split(',')\n",
    "# print(indicators)\n",
    "indicatos_ind = dict()\n",
    "for i in range(len(indicators)):\n",
    "    indicatos_ind[indicators[i].lower()] = i+1\n",
    "print(indicatos_ind)"
   ]
  },
  {
   "cell_type": "code",
   "execution_count": 72,
   "metadata": {},
   "outputs": [],
   "source": [
    "ratios = [\n",
    "    ['pe', [], []], \n",
    "    ['eps', [], []],\n",
    "    ['de', ['totalLiabilities'], ['totalShareHolderEquity']], \n",
    "    ['da', ['totalLiabilities'], ['totalAssets']],\n",
    "    ['roe', ['netincome'], ['totalShareHolderEquity']],\n",
    "    ['roa', ['netincome'], ['totalAssets']],\n",
    "    ['current_ratio', ['totalCurrentAssets'], ['totalCurrentLiabilities']],\n",
    "    ['quick_ratio', ['cashandshortterminvestments', 'accountsreceivable'], ['totalcurrentliabilities']],\n",
    "    ['asset_turnover', ['totalrevenue'], ['totalAssets']],\n",
    "    ['debt_ratio', ['totalliabilities'], ['totalassets']],\n",
    "]"
   ]
  },
  {
   "cell_type": "code",
   "execution_count": 73,
   "metadata": {},
   "outputs": [],
   "source": [
    "for year in range(2017, 2022):\n",
    "    for qtr in range(1, 5):\n",
    "        period = f'{year}_Q{qtr}'\n",
    "        period_file = open(f'../data/QuarterlyData/{period}.csv', 'r')\n",
    "        header = period_file.readline()\n",
    "        lines = period_file.readlines()\n",
    "        info = []\n",
    "        for line in lines:\n",
    "            line = line.strip()\n",
    "            line = line.split(',')\n",
    "            info.append(line)\n",
    "        # print(info[:5])\n",
    "        period_ratios = open(f'../data/QuarterlyRatios/{period}.csv', 'w')\n",
    "        ratio_header = ['ticker']\n",
    "        for ratio in ratios:\n",
    "            ratio_header.append(ratio[0])\n",
    "        period_ratios.write(','.join(ratio_header)  + '\\n')\n",
    "        for i in range(len(ticker)):\n",
    "            to_write = [ticker[i]]\n",
    "            for ratio in ratios:\n",
    "                \n",
    "                num = 0\n",
    "                den = 0\n",
    "                    \n",
    "                try:\n",
    "                    for nums in ratio[1]:\n",
    "                        num += float(info[i][indicatos_ind[nums.lower()]])\n",
    "                    for dens in ratio[2]:\n",
    "                        den += float(info[i][indicatos_ind[dens.lower()]])\n",
    "                    to_write.append(str(num/den))\n",
    "                    pass\n",
    "                except:\n",
    "                    if num != 0 and den != 0:\n",
    "                        print(num, den)\n",
    "                    to_write.append('#####')\n",
    "                    pass\n",
    "            \n",
    "            period_ratios.write(','.join(to_write) + '\\n')"
   ]
  },
  {
   "cell_type": "code",
   "execution_count": null,
   "metadata": {},
   "outputs": [],
   "source": []
  },
  {
   "cell_type": "code",
   "execution_count": null,
   "metadata": {},
   "outputs": [],
   "source": []
  }
 ],
 "metadata": {
  "interpreter": {
   "hash": "916dbcbb3f70747c44a77c7bcd40155683ae19c65e1c03b4aa3499c5328201f1"
  },
  "kernelspec": {
   "display_name": "Python 3.8.10 64-bit",
   "language": "python",
   "name": "python3"
  },
  "language_info": {
   "codemirror_mode": {
    "name": "ipython",
    "version": 3
   },
   "file_extension": ".py",
   "mimetype": "text/x-python",
   "name": "python",
   "nbconvert_exporter": "python",
   "pygments_lexer": "ipython3",
   "version": "3.8.10"
  },
  "orig_nbformat": 4
 },
 "nbformat": 4,
 "nbformat_minor": 2
}
