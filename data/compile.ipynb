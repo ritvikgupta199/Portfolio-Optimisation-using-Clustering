{
 "cells": [
  {
   "cell_type": "code",
   "execution_count": 23,
   "metadata": {},
   "outputs": [],
   "source": [
    "import json"
   ]
  },
  {
   "cell_type": "code",
   "execution_count": 24,
   "metadata": {},
   "outputs": [
    {
     "name": "stdout",
     "output_type": "stream",
     "text": [
      "['MMM', 'AOS', 'ABT', 'ABBV', 'ABMD']\n",
      "no of stocks = 505\n"
     ]
    }
   ],
   "source": [
    "syms = []\n",
    "symfile = open('../snp500sym.csv','r')\n",
    "symlines = symfile.readlines()\n",
    "for line in symlines:\n",
    "    syms.append(line.strip())\n",
    "print(syms[:5])\n",
    "print(f'no of stocks = {len(syms)}')"
   ]
  },
  {
   "cell_type": "code",
   "execution_count": 28,
   "metadata": {},
   "outputs": [
    {
     "name": "stdout",
     "output_type": "stream",
     "text": [
      "{'otherNonCurrrentAssets', 'totalCurrentAssets', 'capitalLeaseObligations', 'longTermDebt', 'currentDebt', 'investments', 'currentLongTermDebt', 'otherNonCurrentLiabilities', 'cashAndCashEquivalentsAtCarryingValue', 'commonStockSharesOutstanding', 'inventory', 'shortTermInvestments', 'otherCurrentLiabilities', 'otherCurrentAssets', 'fiscalDateEnding', 'goodwill', 'propertyPlantEquipment', 'commonStock', 'totalShareholderEquity', 'longTermDebtNoncurrent', 'retainedEarnings', 'totalCurrentLiabilities', 'shortLongTermDebtTotal', 'currentAccountsPayable', 'totalNonCurrentAssets', 'cashAndShortTermInvestments', 'intangibleAssetsExcludingGoodwill', 'shortTermDebt', 'reportedCurrency', 'totalNonCurrentLiabilities', 'treasuryStock', 'deferredRevenue', 'currentNetReceivables', 'accumulatedDepreciationAmortizationPPE', 'longTermInvestments', 'totalLiabilities', 'intangibleAssets', 'totalAssets'}\n",
      "{'sellingGeneralAndAdministrative', 'depreciationAndAmortization', 'operatingExpenses', 'netInterestIncome', 'incomeTaxExpense', 'interestIncome', 'otherNonOperatingIncome', 'interestAndDebtExpense', 'fiscalDateEnding', 'researchAndDevelopment', 'incomeBeforeTax', 'comprehensiveIncomeNetOfTax', 'interestExpense', 'netIncomeFromContinuingOperations', 'ebitda', 'grossProfit', 'ebit', 'depreciation', 'investmentIncomeNet', 'costofGoodsAndServicesSold', 'operatingIncome', 'nonInterestIncome', 'costOfRevenue', 'reportedCurrency', 'netIncome', 'totalRevenue'}\n"
     ]
    }
   ],
   "source": [
    "bal = open('INCOME_STATEMENT/AAL.json', 'r')\n",
    "inc = open('BALANCE_SHEET/AAL.json', 'r')\n",
    "bal = json.load(bal)\n",
    "inc = json.load(inc)\n",
    "inc = inc['annualReports'][0]\n",
    "bal = bal['annualReports'][0]\n",
    "income_statement_indicators = [u[0] for u in inc.items()]\n",
    "balance_sheet_indicators = [u[0] for u in bal.items()]\n",
    "income_statement_indicators = set(income_statement_indicators)\n",
    "balance_sheet_indicators = set(balance_sheet_indicators)\n",
    "print(income_statement_indicators)\n",
    "print(balance_sheet_indicators)\n"
   ]
  },
  {
   "cell_type": "code",
   "execution_count": 32,
   "metadata": {},
   "outputs": [],
   "source": [
    "ratios = {\n",
    "    'pe':0, \n",
    "    'pb':0, \n",
    "    'dte':0,\n",
    "    'curr':0, \n",
    "    'quick':0,\n",
    "    'grossMargin':0,\n",
    "    'roe':0,\n",
    "    'eps':0,\n",
    "}\n",
    "def pe(assetjson:str):\n",
    "    pass"
   ]
  },
  {
   "cell_type": "code",
   "execution_count": 29,
   "metadata": {},
   "outputs": [],
   "source": []
  },
  {
   "cell_type": "code",
   "execution_count": null,
   "metadata": {},
   "outputs": [],
   "source": []
  },
  {
   "cell_type": "code",
   "execution_count": null,
   "metadata": {},
   "outputs": [],
   "source": []
  }
 ],
 "metadata": {
  "interpreter": {
   "hash": "916dbcbb3f70747c44a77c7bcd40155683ae19c65e1c03b4aa3499c5328201f1"
  },
  "kernelspec": {
   "display_name": "Python 3.8.10 64-bit",
   "language": "python",
   "name": "python3"
  },
  "language_info": {
   "codemirror_mode": {
    "name": "ipython",
    "version": 3
   },
   "file_extension": ".py",
   "mimetype": "text/x-python",
   "name": "python",
   "nbconvert_exporter": "python",
   "pygments_lexer": "ipython3",
   "version": "3.8.10"
  },
  "orig_nbformat": 4
 },
 "nbformat": 4,
 "nbformat_minor": 2
}
