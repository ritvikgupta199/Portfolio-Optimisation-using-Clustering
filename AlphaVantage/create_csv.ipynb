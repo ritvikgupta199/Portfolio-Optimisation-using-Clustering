{
 "cells": [
  {
   "cell_type": "code",
   "execution_count": 1,
   "metadata": {},
   "outputs": [
    {
     "name": "stdout",
     "output_type": "stream",
     "text": [
      "Created directory ../data/QuarterlyData\n"
     ]
    }
   ],
   "source": [
    "import json\n",
    "import os\n",
    "from tqdm import tqdm\n",
    "\n",
    "data_dir = '../data/'\n",
    "dirs = ['BALANCE_SHEET', 'CASH_FLOW', 'INCOME_STATEMENT', 'EARNINGS']\n",
    "TICKER_LIST = '../snp500sym.csv'\n",
    "write_dir = '../data/QuarterlyData'\n",
    "\n",
    "if not os.path.exists(write_dir):\n",
    "    os.makedirs(write_dir)\n",
    "    print(f'Created directory {write_dir}')"
   ]
  },
  {
   "cell_type": "code",
   "execution_count": 2,
   "metadata": {},
   "outputs": [
    {
     "name": "stdout",
     "output_type": "stream",
     "text": [
      "['ticker', 'reportedCurrency', 'totalAssets', 'totalCurrentAssets', 'cashAndCashEquivalentsAtCarryingValue', 'cashAndShortTermInvestments', 'inventory', 'currentNetReceivables', 'totalNonCurrentAssets', 'propertyPlantEquipment', 'accumulatedDepreciationAmortizationPPE', 'intangibleAssets', 'intangibleAssetsExcludingGoodwill', 'goodwill', 'investments', 'longTermInvestments', 'shortTermInvestments', 'otherCurrentAssets', 'otherNonCurrrentAssets', 'totalLiabilities', 'totalCurrentLiabilities', 'currentAccountsPayable', 'deferredRevenue', 'currentDebt', 'shortTermDebt', 'totalNonCurrentLiabilities', 'capitalLeaseObligations', 'longTermDebt', 'currentLongTermDebt', 'longTermDebtNoncurrent', 'shortLongTermDebtTotal', 'otherCurrentLiabilities', 'otherNonCurrentLiabilities', 'totalShareholderEquity', 'treasuryStock', 'retainedEarnings', 'commonStock', 'commonStockSharesOutstanding', 'operatingCashflow', 'paymentsForOperatingActivities', 'proceedsFromOperatingActivities', 'changeInOperatingLiabilities', 'changeInOperatingAssets', 'depreciationDepletionAndAmortization', 'capitalExpenditures', 'changeInReceivables', 'changeInInventory', 'profitLoss', 'cashflowFromInvestment', 'cashflowFromFinancing', 'proceedsFromRepaymentsOfShortTermDebt', 'paymentsForRepurchaseOfCommonStock', 'paymentsForRepurchaseOfEquity', 'paymentsForRepurchaseOfPreferredStock', 'dividendPayout', 'dividendPayoutCommonStock', 'dividendPayoutPreferredStock', 'proceedsFromIssuanceOfCommonStock', 'proceedsFromIssuanceOfLongTermDebtAndCapitalSecuritiesNet', 'proceedsFromIssuanceOfPreferredStock', 'proceedsFromRepurchaseOfEquity', 'proceedsFromSaleOfTreasuryStock', 'changeInCashAndCashEquivalents', 'changeInExchangeRate', 'netIncome', 'grossProfit', 'totalRevenue', 'costOfRevenue', 'costofGoodsAndServicesSold', 'operatingIncome', 'sellingGeneralAndAdministrative', 'researchAndDevelopment', 'operatingExpenses', 'investmentIncomeNet', 'netInterestIncome', 'interestIncome', 'interestExpense', 'nonInterestIncome', 'otherNonOperatingIncome', 'depreciation', 'depreciationAndAmortization', 'incomeBeforeTax', 'incomeTaxExpense', 'interestAndDebtExpense', 'netIncomeFromContinuingOperations', 'comprehensiveIncomeNetOfTax', 'ebit', 'ebitda', 'reportedDate', 'reportedEPS', 'estimatedEPS', 'surprise', 'surprisePercentage']\n"
     ]
    }
   ],
   "source": [
    "# Create List of keys\n",
    "keys = ['ticker']\n",
    "for d in dirs:\n",
    "    f = open(os.path.join(data_dir, d, 'MMM.json'), 'r')\n",
    "    data = json.load(f)\n",
    "    try:\n",
    "        quarter_data = data['quarterlyEarnings'][0] if d == 'EARNINGS' else data['quarterlyReports'][0]\n",
    "    except:\n",
    "        continue\n",
    "    for key in quarter_data.keys():\n",
    "        if key != 'fiscalDateEnding' and key not in keys:\n",
    "            keys.append(key)\n",
    "print(keys)"
   ]
  },
  {
   "cell_type": "code",
   "execution_count": 3,
   "metadata": {},
   "outputs": [],
   "source": [
    "def get_filename(date):\n",
    "    tokens = date.split('-')\n",
    "    year = int(tokens[0])\n",
    "    month = int(tokens[1])\n",
    "    if month % 3 == 0:\n",
    "        quarter = month // 3\n",
    "    elif (month + 1) % 3 == 0:\n",
    "            quarter = (month + 1) // 3\n",
    "    elif (month - 1) % 3 == 0:\n",
    "        if month == 1:\n",
    "            quarter = 4\n",
    "            year = year - 1\n",
    "        else:\n",
    "            quarter = (month - 1) // 3\n",
    "    filename = f'{year}_Q{quarter}'\n",
    "    return filename"
   ]
  },
  {
   "cell_type": "code",
   "execution_count": 4,
   "metadata": {},
   "outputs": [
    {
     "name": "stderr",
     "output_type": "stream",
     "text": [
      "100%|██████████| 505/505 [00:01<00:00, 338.79it/s]\n"
     ]
    }
   ],
   "source": [
    "f = open(TICKER_LIST, 'r')\n",
    "for line in tqdm(f.readlines()):\n",
    "    ticker = line.strip()\n",
    "    for d in dirs:\n",
    "        if d == 'EARNINGS':\n",
    "            continue\n",
    "        f = os.path.join(data_dir, d, ticker + '.json')\n",
    "        data = json.load(open(f, 'r'))\n",
    "        try:\n",
    "            quarter_data = data['quarterlyReports']\n",
    "        except:\n",
    "            continue\n",
    "        dates = [d['fiscalDateEnding'] for d in quarter_data]\n",
    "        for date in dates:\n",
    "            filename = os.path.join(write_dir, get_filename(date)+'.csv')\n",
    "            if os.path.exists(filename):\n",
    "                continue\n",
    "            else:\n",
    "                fw = open(filename, 'w')\n",
    "                fw.write(','.join(keys) + '\\n')\n",
    "                fw.close()"
   ]
  },
  {
   "cell_type": "code",
   "execution_count": 5,
   "metadata": {},
   "outputs": [
    {
     "name": "stderr",
     "output_type": "stream",
     "text": [
      "100%|██████████| 505/505 [00:03<00:00, 138.85it/s]\n"
     ]
    }
   ],
   "source": [
    "f = open(TICKER_LIST, 'r')\n",
    "for line in tqdm(f.readlines()):\n",
    "    ticker = line.strip()\n",
    "    data_dict = {}\n",
    "    for d in dirs:\n",
    "        f = os.path.join(data_dir, d, ticker + '.json')\n",
    "        data = json.load(open(f, 'r'))\n",
    "        try:\n",
    "            quarter_data = data['quarterlyEarnings'] if d == 'EARNINGS' else data['quarterlyReports']\n",
    "        except:\n",
    "            continue\n",
    "        for d in quarter_data:\n",
    "            q_date = get_filename(d['fiscalDateEnding'])\n",
    "            if q_date not in data_dict:\n",
    "                data_dict[q_date] = d\n",
    "            else:\n",
    "                data_dict[q_date].update(d)\n",
    "    for q_date, q_data in data_dict.items():\n",
    "        filename = os.path.join(write_dir, q_date+'.csv')\n",
    "        if os.path.exists(filename):\n",
    "            fw = open(filename, 'a')\n",
    "            l = []\n",
    "            for key in keys:\n",
    "                if key == 'ticker':\n",
    "                    l.append(ticker)\n",
    "                elif key in q_data:\n",
    "                    l.append(q_data[key])\n",
    "                else:\n",
    "                    l.append('')\n",
    "            fw.write(','.join(l) + '\\n')\n",
    "            fw.close()"
   ]
  },
  {
   "cell_type": "code",
   "execution_count": null,
   "metadata": {},
   "outputs": [],
   "source": []
  }
 ],
 "metadata": {
  "interpreter": {
   "hash": "aee8b7b246df8f9039afb4144a1f6fd8d2ca17a180786b69acc140d282b71a49"
  },
  "kernelspec": {
   "display_name": "Python 3.8.2 64-bit",
   "language": "python",
   "name": "python3"
  },
  "language_info": {
   "codemirror_mode": {
    "name": "ipython",
    "version": 3
   },
   "file_extension": ".py",
   "mimetype": "text/x-python",
   "name": "python",
   "nbconvert_exporter": "python",
   "pygments_lexer": "ipython3",
   "version": "3.8.8"
  },
  "orig_nbformat": 4
 },
 "nbformat": 4,
 "nbformat_minor": 2
}
