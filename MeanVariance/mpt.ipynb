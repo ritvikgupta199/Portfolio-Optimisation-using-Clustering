{
 "cells": [
  {
   "cell_type": "code",
   "execution_count": 2,
   "metadata": {},
   "outputs": [],
   "source": [
    "import numpy as np\n",
    "import pandas as pd\n",
    "import pandas_datareader as web\n",
    "import matplotlib.pyplot as plt\n",
    "from matplotlib.ticker import FuncFormatter\n",
    "\n",
    "from pypfopt import discrete_allocation\n",
    "from pypfopt.efficient_frontier import EfficientFrontier\n",
    "from pypfopt import risk_models\n",
    "from pypfopt import expected_returns\n",
    "from pypfopt.cla import CLA\n",
    "from pypfopt import plotting"
   ]
  },
  {
   "cell_type": "code",
   "execution_count": 3,
   "metadata": {},
   "outputs": [
    {
     "data": {
      "text/html": [
       "<div>\n",
       "<style scoped>\n",
       "    .dataframe tbody tr th:only-of-type {\n",
       "        vertical-align: middle;\n",
       "    }\n",
       "\n",
       "    .dataframe tbody tr th {\n",
       "        vertical-align: top;\n",
       "    }\n",
       "\n",
       "    .dataframe thead th {\n",
       "        text-align: right;\n",
       "    }\n",
       "</style>\n",
       "<table border=\"1\" class=\"dataframe\">\n",
       "  <thead>\n",
       "    <tr style=\"text-align: right;\">\n",
       "      <th></th>\n",
       "      <th>BSX</th>\n",
       "      <th>AES</th>\n",
       "      <th>BRK-B</th>\n",
       "      <th>SEE</th>\n",
       "      <th>QQQ</th>\n",
       "      <th>SPY</th>\n",
       "    </tr>\n",
       "    <tr>\n",
       "      <th>Date</th>\n",
       "      <th></th>\n",
       "      <th></th>\n",
       "      <th></th>\n",
       "      <th></th>\n",
       "      <th></th>\n",
       "      <th></th>\n",
       "    </tr>\n",
       "  </thead>\n",
       "  <tbody>\n",
       "    <tr>\n",
       "      <th>2014-12-31</th>\n",
       "      <td>13.250000</td>\n",
       "      <td>10.683703</td>\n",
       "      <td>150.149994</td>\n",
       "      <td>38.254539</td>\n",
       "      <td>97.376854</td>\n",
       "      <td>179.880402</td>\n",
       "    </tr>\n",
       "    <tr>\n",
       "      <th>2015-01-02</th>\n",
       "      <td>13.220000</td>\n",
       "      <td>10.629391</td>\n",
       "      <td>149.169998</td>\n",
       "      <td>38.497971</td>\n",
       "      <td>97.084511</td>\n",
       "      <td>179.784119</td>\n",
       "    </tr>\n",
       "    <tr>\n",
       "      <th>2015-01-05</th>\n",
       "      <td>13.810000</td>\n",
       "      <td>10.326804</td>\n",
       "      <td>147.000000</td>\n",
       "      <td>37.947998</td>\n",
       "      <td>95.660385</td>\n",
       "      <td>176.537262</td>\n",
       "    </tr>\n",
       "    <tr>\n",
       "      <th>2015-01-06</th>\n",
       "      <td>13.700000</td>\n",
       "      <td>10.094043</td>\n",
       "      <td>146.839996</td>\n",
       "      <td>38.146336</td>\n",
       "      <td>94.377747</td>\n",
       "      <td>174.874481</td>\n",
       "    </tr>\n",
       "    <tr>\n",
       "      <th>2015-01-07</th>\n",
       "      <td>14.030000</td>\n",
       "      <td>10.109558</td>\n",
       "      <td>148.880005</td>\n",
       "      <td>38.200447</td>\n",
       "      <td>95.594391</td>\n",
       "      <td>177.053650</td>\n",
       "    </tr>\n",
       "    <tr>\n",
       "      <th>...</th>\n",
       "      <td>...</td>\n",
       "      <td>...</td>\n",
       "      <td>...</td>\n",
       "      <td>...</td>\n",
       "      <td>...</td>\n",
       "      <td>...</td>\n",
       "    </tr>\n",
       "    <tr>\n",
       "      <th>2020-06-01</th>\n",
       "      <td>37.500000</td>\n",
       "      <td>11.960445</td>\n",
       "      <td>183.839996</td>\n",
       "      <td>31.503244</td>\n",
       "      <td>231.826080</td>\n",
       "      <td>296.821350</td>\n",
       "    </tr>\n",
       "    <tr>\n",
       "      <th>2020-06-02</th>\n",
       "      <td>37.540001</td>\n",
       "      <td>12.494139</td>\n",
       "      <td>185.940002</td>\n",
       "      <td>31.522675</td>\n",
       "      <td>233.381104</td>\n",
       "      <td>299.279053</td>\n",
       "    </tr>\n",
       "    <tr>\n",
       "      <th>2020-06-03</th>\n",
       "      <td>37.910000</td>\n",
       "      <td>12.989711</td>\n",
       "      <td>190.820007</td>\n",
       "      <td>32.659233</td>\n",
       "      <td>234.431015</td>\n",
       "      <td>303.261932</td>\n",
       "    </tr>\n",
       "    <tr>\n",
       "      <th>2020-06-04</th>\n",
       "      <td>37.419998</td>\n",
       "      <td>13.189846</td>\n",
       "      <td>192.050003</td>\n",
       "      <td>33.030140</td>\n",
       "      <td>232.786835</td>\n",
       "      <td>302.465363</td>\n",
       "    </tr>\n",
       "    <tr>\n",
       "      <th>2020-06-05</th>\n",
       "      <td>38.830002</td>\n",
       "      <td>13.628238</td>\n",
       "      <td>200.660004</td>\n",
       "      <td>34.289272</td>\n",
       "      <td>237.402359</td>\n",
       "      <td>310.217377</td>\n",
       "    </tr>\n",
       "  </tbody>\n",
       "</table>\n",
       "<p>1367 rows × 6 columns</p>\n",
       "</div>"
      ],
      "text/plain": [
       "                  BSX        AES       BRK-B        SEE         QQQ  \\\n",
       "Date                                                                  \n",
       "2014-12-31  13.250000  10.683703  150.149994  38.254539   97.376854   \n",
       "2015-01-02  13.220000  10.629391  149.169998  38.497971   97.084511   \n",
       "2015-01-05  13.810000  10.326804  147.000000  37.947998   95.660385   \n",
       "2015-01-06  13.700000  10.094043  146.839996  38.146336   94.377747   \n",
       "2015-01-07  14.030000  10.109558  148.880005  38.200447   95.594391   \n",
       "...               ...        ...         ...        ...         ...   \n",
       "2020-06-01  37.500000  11.960445  183.839996  31.503244  231.826080   \n",
       "2020-06-02  37.540001  12.494139  185.940002  31.522675  233.381104   \n",
       "2020-06-03  37.910000  12.989711  190.820007  32.659233  234.431015   \n",
       "2020-06-04  37.419998  13.189846  192.050003  33.030140  232.786835   \n",
       "2020-06-05  38.830002  13.628238  200.660004  34.289272  237.402359   \n",
       "\n",
       "                   SPY  \n",
       "Date                    \n",
       "2014-12-31  179.880402  \n",
       "2015-01-02  179.784119  \n",
       "2015-01-05  176.537262  \n",
       "2015-01-06  174.874481  \n",
       "2015-01-07  177.053650  \n",
       "...                ...  \n",
       "2020-06-01  296.821350  \n",
       "2020-06-02  299.279053  \n",
       "2020-06-03  303.261932  \n",
       "2020-06-04  302.465363  \n",
       "2020-06-05  310.217377  \n",
       "\n",
       "[1367 rows x 6 columns]"
      ]
     },
     "execution_count": 3,
     "metadata": {},
     "output_type": "execute_result"
    }
   ],
   "source": [
    "tickers = ['BSX','AES','BRK-B','SEE','QQQ','SPY']\n",
    "thelen = len(tickers)\n",
    "price_data = []\n",
    "for ticker in range(thelen):\n",
    "    prices = web.DataReader(tickers[ticker], start='2015-01-01', end = '2020-06-06', data_source='yahoo')\n",
    "    price_data.append(prices.assign(ticker=ticker)[['Adj Close']])\n",
    "df_stocks = pd.concat(price_data, axis=1)\n",
    "df_stocks.columns=tickers\n",
    "df_stocks"
   ]
  },
  {
   "cell_type": "code",
   "execution_count": 4,
   "metadata": {},
   "outputs": [
    {
     "name": "stdout",
     "output_type": "stream",
     "text": [
      "BSX      0\n",
      "AES      0\n",
      "BRK-B    0\n",
      "SEE      0\n",
      "QQQ      0\n",
      "SPY      0\n",
      "dtype: int64\n"
     ]
    }
   ],
   "source": [
    "nullin_df = pd.DataFrame(df_stocks,columns=tickers)\n",
    "print(nullin_df.isnull().sum())"
   ]
  },
  {
   "cell_type": "code",
   "execution_count": 5,
   "metadata": {},
   "outputs": [],
   "source": [
    "mu = expected_returns.mean_historical_return(df_stocks)\n",
    "Sigma = risk_models.sample_cov(df_stocks)"
   ]
  },
  {
   "cell_type": "code",
   "execution_count": 6,
   "metadata": {},
   "outputs": [
    {
     "name": "stdout",
     "output_type": "stream",
     "text": [
      "OrderedDict([('BSX', 0.0), ('AES', 0.0), ('BRK-B', 0.08013), ('SEE', 0.05241), ('QQQ', 0.0), ('SPY', 0.86746)])\n"
     ]
    }
   ],
   "source": [
    "ef = EfficientFrontier(mu, Sigma, weight_bounds=(0,1))\n",
    "sharpe_pfolio=ef.min_volatility()\n",
    "sharpe_pwt=ef.clean_weights()\n",
    "print(sharpe_pwt)"
   ]
  },
  {
   "cell_type": "code",
   "execution_count": 10,
   "metadata": {},
   "outputs": [
    {
     "name": "stdout",
     "output_type": "stream",
     "text": [
      "BSX       38.830002\n",
      "AES       13.628238\n",
      "BRK-B    200.660004\n",
      "SEE       34.289272\n",
      "QQQ      237.402359\n",
      "SPY      310.217377\n",
      "Name: 2020-06-05 00:00:00, dtype: float64\n",
      "{'BSX': 0.0, 'AES': 0.0, 'BRK-B': 3.9933219643975795, 'SEE': 15.284663823920784, 'QQQ': 0.0, 'SPY': 27.96297258402021}\n"
     ]
    }
   ],
   "source": [
    "latest_prices = df_stocks.loc[df_stocks.index.max()]\n",
    "print(latest_prices)\n",
    "\n",
    "allocation = {}\n",
    "AMOUNT = 10000\n",
    "for idx, wt in sharpe_pwt.items():\n",
    "    allocation[idx] = (wt * AMOUNT) / latest_prices[idx]\n",
    "print(allocation)\n"
   ]
  },
  {
   "cell_type": "code",
   "execution_count": 7,
   "metadata": {},
   "outputs": [
    {
     "name": "stdout",
     "output_type": "stream",
     "text": [
      "BSX       38.830002\n",
      "AES       13.628238\n",
      "BRK-B    200.660004\n",
      "SEE       34.289272\n",
      "QQQ      237.402359\n",
      "SPY      310.217377\n",
      "Name: 2020-06-05 00:00:00, dtype: float64\n",
      "{'BRK-B': 4, 'SEE': 14, 'SPY': 28}Long-step dual simplex will be used\n",
      "\n",
      "31.22362518310547\n"
     ]
    }
   ],
   "source": [
    "latest_prices = discrete_allocation.get_latest_prices(df_stocks)\n",
    "print(latest_prices)\n",
    "allocation_minv, rem_minv = discrete_allocation.DiscreteAllocation(sharpe_pwt, latest_prices, total_portfolio_value=10000).lp_portfolio()\n",
    "print(allocation_minv)\n",
    "print(rem_minv)"
   ]
  },
  {
   "cell_type": "code",
   "execution_count": 102,
   "metadata": {},
   "outputs": [
    {
     "name": "stdout",
     "output_type": "stream",
     "text": [
      "9968.777229309082\n"
     ]
    }
   ],
   "source": [
    "df = latest_prices\n",
    "cost = 0\n",
    "for index, val in allocation_minv.items():\n",
    "    cost = cost + df[index]*val\n",
    "print(cost)"
   ]
  },
  {
   "cell_type": "code",
   "execution_count": 114,
   "metadata": {},
   "outputs": [
    {
     "name": "stdout",
     "output_type": "stream",
     "text": [
      "              sp500\n",
      "DATE               \n",
      "2015-01-02  2058.20\n",
      "2015-01-05  2020.58\n",
      "2015-01-06  2002.61\n",
      "2015-01-07  2025.90\n",
      "2015-01-08  2062.14\n"
     ]
    }
   ],
   "source": [
    "sp500_df = web.DataReader('sp500', start ='2015-01-02', end = '2020-06-06', data_source='fred')\n",
    "print(sp500_df.head())"
   ]
  },
  {
   "cell_type": "code",
   "execution_count": 119,
   "metadata": {},
   "outputs": [
    {
     "data": {
      "text/plain": [
       "sp500    2058.2\n",
       "Name: 2015-01-02 00:00:00, dtype: float64"
      ]
     },
     "execution_count": 119,
     "metadata": {},
     "output_type": "execute_result"
    }
   ],
   "source": [
    "sp500_df.loc['2015-01-02']"
   ]
  },
  {
   "cell_type": "code",
   "execution_count": null,
   "metadata": {},
   "outputs": [],
   "source": []
  }
 ],
 "metadata": {
  "interpreter": {
   "hash": "a7d487648377f9747e3609d2023bda233351274e69a64c32ec40b669bdd2a779"
  },
  "kernelspec": {
   "display_name": "Python 3 (ipykernel)",
   "language": "python",
   "name": "python3"
  },
  "language_info": {
   "codemirror_mode": {
    "name": "ipython",
    "version": 3
   },
   "file_extension": ".py",
   "mimetype": "text/x-python",
   "name": "python",
   "nbconvert_exporter": "python",
   "pygments_lexer": "ipython3",
   "version": "3.8.8"
  }
 },
 "nbformat": 4,
 "nbformat_minor": 2
}
