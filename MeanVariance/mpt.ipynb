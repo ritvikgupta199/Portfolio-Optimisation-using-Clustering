{
 "cells": [
  {
   "cell_type": "code",
   "execution_count": 107,
   "metadata": {},
   "outputs": [
    {
     "name": "stdout",
     "output_type": "stream",
     "text": [
      "              sp500\n",
      "DATE               \n",
      "2015-01-01      NaN\n",
      "2015-01-02  2058.20\n",
      "2015-01-05  2020.58\n",
      "2015-01-06  2002.61\n",
      "2015-01-07  2025.90\n",
      "...             ...\n",
      "2020-06-01  3055.73\n",
      "2020-06-02  3080.82\n",
      "2020-06-03  3122.87\n",
      "2020-06-04  3112.35\n",
      "2020-06-05  3193.93\n",
      "\n",
      "[1417 rows x 1 columns]\n"
     ]
    }
   ],
   "source": [
    "import numpy as np\n",
    "import pandas as pd\n",
    "import pandas_datareader as web\n",
    "import matplotlib.pyplot as plt\n",
    "from matplotlib.ticker import FuncFormatter\n",
    "\n",
    "from pypfopt import discrete_allocation\n",
    "from pypfopt.efficient_frontier import EfficientFrontier\n",
    "from pypfopt import risk_models\n",
    "from pypfopt import expected_returns\n",
    "from pypfopt.cla import CLA\n",
    "from pypfopt import plotting"
   ]
  },
  {
   "cell_type": "code",
   "execution_count": 79,
   "metadata": {},
   "outputs": [
    {
     "data": {
      "text/html": [
       "<div>\n",
       "<style scoped>\n",
       "    .dataframe tbody tr th:only-of-type {\n",
       "        vertical-align: middle;\n",
       "    }\n",
       "\n",
       "    .dataframe tbody tr th {\n",
       "        vertical-align: top;\n",
       "    }\n",
       "\n",
       "    .dataframe thead th {\n",
       "        text-align: right;\n",
       "    }\n",
       "</style>\n",
       "<table border=\"1\" class=\"dataframe\">\n",
       "  <thead>\n",
       "    <tr style=\"text-align: right;\">\n",
       "      <th></th>\n",
       "      <th>BSX</th>\n",
       "      <th>AES</th>\n",
       "      <th>BRK-B</th>\n",
       "      <th>SEE</th>\n",
       "      <th>QQQ</th>\n",
       "      <th>SPY</th>\n",
       "    </tr>\n",
       "    <tr>\n",
       "      <th>Date</th>\n",
       "      <th></th>\n",
       "      <th></th>\n",
       "      <th></th>\n",
       "      <th></th>\n",
       "      <th></th>\n",
       "      <th></th>\n",
       "    </tr>\n",
       "  </thead>\n",
       "  <tbody>\n",
       "    <tr>\n",
       "      <th>2014-12-31</th>\n",
       "      <td>13.250000</td>\n",
       "      <td>10.683700</td>\n",
       "      <td>150.149994</td>\n",
       "      <td>38.254536</td>\n",
       "      <td>97.376846</td>\n",
       "      <td>179.880402</td>\n",
       "    </tr>\n",
       "    <tr>\n",
       "      <th>2015-01-02</th>\n",
       "      <td>13.220000</td>\n",
       "      <td>10.629392</td>\n",
       "      <td>149.169998</td>\n",
       "      <td>38.497959</td>\n",
       "      <td>97.084496</td>\n",
       "      <td>179.784119</td>\n",
       "    </tr>\n",
       "    <tr>\n",
       "      <th>2015-01-05</th>\n",
       "      <td>13.810000</td>\n",
       "      <td>10.326804</td>\n",
       "      <td>147.000000</td>\n",
       "      <td>37.947994</td>\n",
       "      <td>95.660385</td>\n",
       "      <td>176.537277</td>\n",
       "    </tr>\n",
       "    <tr>\n",
       "      <th>2015-01-06</th>\n",
       "      <td>13.700000</td>\n",
       "      <td>10.094044</td>\n",
       "      <td>146.839996</td>\n",
       "      <td>38.146351</td>\n",
       "      <td>94.377731</td>\n",
       "      <td>174.874512</td>\n",
       "    </tr>\n",
       "    <tr>\n",
       "      <th>2015-01-07</th>\n",
       "      <td>14.030000</td>\n",
       "      <td>10.109560</td>\n",
       "      <td>148.880005</td>\n",
       "      <td>38.200439</td>\n",
       "      <td>95.594337</td>\n",
       "      <td>177.053650</td>\n",
       "    </tr>\n",
       "    <tr>\n",
       "      <th>...</th>\n",
       "      <td>...</td>\n",
       "      <td>...</td>\n",
       "      <td>...</td>\n",
       "      <td>...</td>\n",
       "      <td>...</td>\n",
       "      <td>...</td>\n",
       "    </tr>\n",
       "    <tr>\n",
       "      <th>2020-06-01</th>\n",
       "      <td>37.500000</td>\n",
       "      <td>11.960445</td>\n",
       "      <td>183.839996</td>\n",
       "      <td>31.503242</td>\n",
       "      <td>231.826096</td>\n",
       "      <td>296.821289</td>\n",
       "    </tr>\n",
       "    <tr>\n",
       "      <th>2020-06-02</th>\n",
       "      <td>37.540001</td>\n",
       "      <td>12.494140</td>\n",
       "      <td>185.940002</td>\n",
       "      <td>31.522673</td>\n",
       "      <td>233.381119</td>\n",
       "      <td>299.278992</td>\n",
       "    </tr>\n",
       "    <tr>\n",
       "      <th>2020-06-03</th>\n",
       "      <td>37.910000</td>\n",
       "      <td>12.989712</td>\n",
       "      <td>190.820007</td>\n",
       "      <td>32.659241</td>\n",
       "      <td>234.431000</td>\n",
       "      <td>303.261932</td>\n",
       "    </tr>\n",
       "    <tr>\n",
       "      <th>2020-06-04</th>\n",
       "      <td>37.419998</td>\n",
       "      <td>13.189846</td>\n",
       "      <td>192.050003</td>\n",
       "      <td>33.030140</td>\n",
       "      <td>232.786850</td>\n",
       "      <td>302.465302</td>\n",
       "    </tr>\n",
       "    <tr>\n",
       "      <th>2020-06-05</th>\n",
       "      <td>38.830002</td>\n",
       "      <td>13.628237</td>\n",
       "      <td>200.660004</td>\n",
       "      <td>34.289272</td>\n",
       "      <td>237.402374</td>\n",
       "      <td>310.217407</td>\n",
       "    </tr>\n",
       "  </tbody>\n",
       "</table>\n",
       "<p>1367 rows × 6 columns</p>\n",
       "</div>"
      ],
      "text/plain": [
       "                  BSX        AES       BRK-B        SEE         QQQ  \\\n",
       "Date                                                                  \n",
       "2014-12-31  13.250000  10.683700  150.149994  38.254536   97.376846   \n",
       "2015-01-02  13.220000  10.629392  149.169998  38.497959   97.084496   \n",
       "2015-01-05  13.810000  10.326804  147.000000  37.947994   95.660385   \n",
       "2015-01-06  13.700000  10.094044  146.839996  38.146351   94.377731   \n",
       "2015-01-07  14.030000  10.109560  148.880005  38.200439   95.594337   \n",
       "...               ...        ...         ...        ...         ...   \n",
       "2020-06-01  37.500000  11.960445  183.839996  31.503242  231.826096   \n",
       "2020-06-02  37.540001  12.494140  185.940002  31.522673  233.381119   \n",
       "2020-06-03  37.910000  12.989712  190.820007  32.659241  234.431000   \n",
       "2020-06-04  37.419998  13.189846  192.050003  33.030140  232.786850   \n",
       "2020-06-05  38.830002  13.628237  200.660004  34.289272  237.402374   \n",
       "\n",
       "                   SPY  \n",
       "Date                    \n",
       "2014-12-31  179.880402  \n",
       "2015-01-02  179.784119  \n",
       "2015-01-05  176.537277  \n",
       "2015-01-06  174.874512  \n",
       "2015-01-07  177.053650  \n",
       "...                ...  \n",
       "2020-06-01  296.821289  \n",
       "2020-06-02  299.278992  \n",
       "2020-06-03  303.261932  \n",
       "2020-06-04  302.465302  \n",
       "2020-06-05  310.217407  \n",
       "\n",
       "[1367 rows x 6 columns]"
      ]
     },
     "execution_count": 79,
     "metadata": {},
     "output_type": "execute_result"
    }
   ],
   "source": [
    "tickers = ['BSX','AES','BRK-B','SEE','QQQ','SPY']\n",
    "thelen = len(tickers)\n",
    "price_data = []\n",
    "for ticker in range(thelen):\n",
    "    prices = web.DataReader(tickers[ticker], start='2015-01-01', end = '2020-06-06', data_source='yahoo')\n",
    "    price_data.append(prices.assign(ticker=ticker)[['Adj Close']])\n",
    "df_stocks = pd.concat(price_data, axis=1)\n",
    "df_stocks.columns=tickers\n",
    "df_stocks"
   ]
  },
  {
   "cell_type": "code",
   "execution_count": 80,
   "metadata": {},
   "outputs": [
    {
     "name": "stdout",
     "output_type": "stream",
     "text": [
      "BSX      0\n",
      "AES      0\n",
      "BRK-B    0\n",
      "SEE      0\n",
      "QQQ      0\n",
      "SPY      0\n",
      "dtype: int64\n"
     ]
    }
   ],
   "source": [
    "nullin_df = pd.DataFrame(df_stocks,columns=tickers)\n",
    "print(nullin_df.isnull().sum())"
   ]
  },
  {
   "cell_type": "code",
   "execution_count": 81,
   "metadata": {},
   "outputs": [],
   "source": [
    "mu = expected_returns.mean_historical_return(df_stocks)\n",
    "Sigma = risk_models.sample_cov(df_stocks)"
   ]
  },
  {
   "cell_type": "code",
   "execution_count": 100,
   "metadata": {},
   "outputs": [
    {
     "name": "stdout",
     "output_type": "stream",
     "text": [
      "OrderedDict([('BSX', 0.0), ('AES', 0.0), ('BRK-B', 0.08013), ('SEE', 0.05241), ('QQQ', 0.0), ('SPY', 0.86746)])\n"
     ]
    }
   ],
   "source": [
    "ef = EfficientFrontier(mu, Sigma, weight_bounds=(0,1))\n",
    "sharpe_pfolio=ef.min_volatility()\n",
    "sharpe_pwt=ef.clean_weights()\n",
    "print(sharpe_pwt)"
   ]
  },
  {
   "cell_type": "code",
   "execution_count": 101,
   "metadata": {},
   "outputs": [
    {
     "name": "stdout",
     "output_type": "stream",
     "text": [
      "BSX       38.830002\n",
      "AES       13.628237\n",
      "BRK-B    200.660004\n",
      "SEE       34.289272\n",
      "QQQ      237.402374\n",
      "SPY      310.217407\n",
      "Name: 2020-06-05 00:00:00, dtype: float64\n",
      "{'BRK-B': 4, 'SEE': 14, 'SPY': 28}Long-step dual simplex will be used\n",
      "\n",
      "31.22277069091797\n"
     ]
    }
   ],
   "source": [
    "latest_prices = discrete_allocation.get_latest_prices(df_stocks)\n",
    "print(latest_prices)\n",
    "allocation_minv, rem_minv = discrete_allocation.DiscreteAllocation(sharpe_pwt, latest_prices, total_portfolio_value=10000).lp_portfolio()\n",
    "print(allocation_minv)\n",
    "print(rem_minv)"
   ]
  },
  {
   "cell_type": "code",
   "execution_count": 102,
   "metadata": {},
   "outputs": [
    {
     "name": "stdout",
     "output_type": "stream",
     "text": [
      "9968.777229309082\n"
     ]
    }
   ],
   "source": [
    "df = latest_prices\n",
    "cost = 0\n",
    "for index, val in allocation_minv.items():\n",
    "    cost = cost + df[index]*val\n",
    "print(cost)"
   ]
  },
  {
   "cell_type": "code",
   "execution_count": 114,
   "metadata": {},
   "outputs": [
    {
     "name": "stdout",
     "output_type": "stream",
     "text": [
      "              sp500\n",
      "DATE               \n",
      "2015-01-02  2058.20\n",
      "2015-01-05  2020.58\n",
      "2015-01-06  2002.61\n",
      "2015-01-07  2025.90\n",
      "2015-01-08  2062.14\n"
     ]
    }
   ],
   "source": [
    "sp500_df = web.DataReader('sp500', start ='2015-01-02', end = '2020-06-06', data_source='fred')\n",
    "print(sp500_df.head())"
   ]
  },
  {
   "cell_type": "code",
   "execution_count": 119,
   "metadata": {},
   "outputs": [
    {
     "data": {
      "text/plain": [
       "sp500    2058.2\n",
       "Name: 2015-01-02 00:00:00, dtype: float64"
      ]
     },
     "execution_count": 119,
     "metadata": {},
     "output_type": "execute_result"
    }
   ],
   "source": [
    "sp500_df.loc['2015-01-02']"
   ]
  },
  {
   "cell_type": "code",
   "execution_count": null,
   "metadata": {},
   "outputs": [],
   "source": []
  }
 ],
 "metadata": {
  "interpreter": {
   "hash": "a7d487648377f9747e3609d2023bda233351274e69a64c32ec40b669bdd2a779"
  },
  "kernelspec": {
   "display_name": "Python 3 (ipykernel)",
   "language": "python",
   "name": "python3"
  },
  "language_info": {
   "codemirror_mode": {
    "name": "ipython",
    "version": 3
   },
   "file_extension": ".py",
   "mimetype": "text/x-python",
   "name": "python",
   "nbconvert_exporter": "python",
   "pygments_lexer": "ipython3",
   "version": "3.8.10"
  }
 },
 "nbformat": 4,
 "nbformat_minor": 2
}
